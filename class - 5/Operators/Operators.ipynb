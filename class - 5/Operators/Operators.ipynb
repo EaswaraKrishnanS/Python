{
 "cells": [
  {
   "cell_type": "code",
   "execution_count": 10,
   "id": "3655d90b-aa5b-4428-9923-20e613061d21",
   "metadata": {},
   "outputs": [
    {
     "name": "stdout",
     "output_type": "stream",
     "text": [
      "AathithyaRavichandran\n"
     ]
    }
   ],
   "source": [
    "fname = \"Aathithya\"\n",
    "lname = \"Ravichandran\"\n",
    "print(fname + lname)"
   ]
  },
  {
   "cell_type": "code",
   "execution_count": 4,
   "id": "ceab19b4-ad59-470f-bc89-b9c1a70397ce",
   "metadata": {},
   "outputs": [
    {
     "name": "stdout",
     "output_type": "stream",
     "text": [
      "Aathithya Ravichandran\n"
     ]
    }
   ],
   "source": [
    "fname = \"Aathithya\"\n",
    "lname = \"Ravichandran\"\n",
    "print(fname + \" \" + lname)"
   ]
  },
  {
   "cell_type": "code",
   "execution_count": 9,
   "id": "c176e422-fb46-4037-93fd-006915f83979",
   "metadata": {},
   "outputs": [
    {
     "name": "stdout",
     "output_type": "stream",
     "text": [
      "30.5\n"
     ]
    },
    {
     "ename": "TypeError",
     "evalue": "can only concatenate str (not \"int\") to str",
     "output_type": "error",
     "traceback": [
      "\u001b[1;31m---------------------------------------------------------------------------\u001b[0m",
      "\u001b[1;31mTypeError\u001b[0m                                 Traceback (most recent call last)",
      "Cell \u001b[1;32mIn[9], line 8\u001b[0m\n\u001b[0;32m      6\u001b[0m \u001b[38;5;28mprint\u001b[39m(a \u001b[38;5;241m+\u001b[39m b)\n\u001b[0;32m      7\u001b[0m \u001b[38;5;66;03m#print(b + c)\u001b[39;00m\n\u001b[1;32m----> 8\u001b[0m \u001b[38;5;28mprint\u001b[39m(\u001b[43mc\u001b[49m\u001b[43m \u001b[49m\u001b[38;5;241;43m+\u001b[39;49m\u001b[43m \u001b[49m\u001b[43md\u001b[49m)\n",
      "\u001b[1;31mTypeError\u001b[0m: can only concatenate str (not \"int\") to str"
     ]
    }
   ],
   "source": [
    "a = 10\n",
    "b = 20.5\n",
    "c = \"ten\"\n",
    "d = 27\n",
    "\n",
    "print(a + b)\n",
    "#print(b + c)\n",
    "print(c + d)"
   ]
  },
  {
   "cell_type": "code",
   "execution_count": null,
   "id": "a42bdbd6-2597-44b4-93e6-074446e5f798",
   "metadata": {},
   "outputs": [],
   "source": []
  }
 ],
 "metadata": {
  "kernelspec": {
   "display_name": "Python 3 (ipykernel)",
   "language": "python",
   "name": "python3"
  },
  "language_info": {
   "codemirror_mode": {
    "name": "ipython",
    "version": 3
   },
   "file_extension": ".py",
   "mimetype": "text/x-python",
   "name": "python",
   "nbconvert_exporter": "python",
   "pygments_lexer": "ipython3",
   "version": "3.12.5"
  }
 },
 "nbformat": 4,
 "nbformat_minor": 5
}
