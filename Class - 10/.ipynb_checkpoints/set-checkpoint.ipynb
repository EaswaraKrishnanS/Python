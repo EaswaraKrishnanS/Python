{
 "cells": [
  {
   "cell_type": "code",
   "execution_count": 1,
   "id": "fa80dc91-f8d5-4509-91be-ffb85aeb1040",
   "metadata": {},
   "outputs": [
    {
     "name": "stdout",
     "output_type": "stream",
     "text": [
      "<class 'dict'>\n"
     ]
    }
   ],
   "source": [
    "s1 = {}\n",
    "print(type(s1))\n"
   ]
  },
  {
   "cell_type": "code",
   "execution_count": 2,
   "id": "c6a47aa3-7841-4118-beb0-26f7cf40e776",
   "metadata": {},
   "outputs": [
    {
     "name": "stdout",
     "output_type": "stream",
     "text": [
      "<class 'set'>\n"
     ]
    }
   ],
   "source": [
    "s1 = set()\n",
    "print(type(s1))"
   ]
  },
  {
   "cell_type": "code",
   "execution_count": 4,
   "id": "f80d3446-e590-4e69-8a7a-a9ec69f3b8c6",
   "metadata": {},
   "outputs": [
    {
     "name": "stdout",
     "output_type": "stream",
     "text": [
      "{50, 20, 40, 10, 30}\n"
     ]
    }
   ],
   "source": [
    "s1 = {10,10,20,30,20,40,30,40,50}\n",
    "print(s1)"
   ]
  },
  {
   "cell_type": "code",
   "execution_count": 15,
   "id": "d71713d4-eeb8-4610-ac1a-92bdfd72eec7",
   "metadata": {},
   "outputs": [
    {
     "name": "stdout",
     "output_type": "stream",
     "text": [
      "[10, 20, 30, 40, 50]\n",
      "<class 'list'>\n"
     ]
    }
   ],
   "source": [
    "s1 = {10, 10, 20, 30, 20, 40, 30, 40, 50}\n",
    "s1_list = sorted(s1)  # Convert to list and sort\n",
    "print(s1_list)\n",
    "print(type(s1_list))\n"
   ]
  },
  {
   "cell_type": "code",
   "execution_count": 13,
   "id": "53f67400-ff70-4f84-a376-45416e861d6c",
   "metadata": {},
   "outputs": [
    {
     "name": "stdout",
     "output_type": "stream",
     "text": [
      "[10, 20, 30, 40, 50]\n",
      "<class 'set'>\n"
     ]
    }
   ],
   "source": [
    "s1 = {10, 10, 20, 30, 20, 40, 30, 40, 50}\n",
    "sorted_s1 = sorted(s1)  # Convert to list and sort\n",
    "print(sorted_s1)        # Prints the sorted list\n",
    "print(type(s1))         # Still a set, prints: <class 'set'>\n"
   ]
  },
  {
   "cell_type": "code",
   "execution_count": 16,
   "id": "b3f37b42-4012-4c3a-b24c-411372a87eb7",
   "metadata": {},
   "outputs": [
    {
     "name": "stdout",
     "output_type": "stream",
     "text": [
      "{50, 20, 70, 40, 10, 60, 30}\n"
     ]
    }
   ],
   "source": [
    "s1 = {10,20,30,40}\n",
    "s2 = {50,60,70}\n",
    "s1.update(s2)\n",
    "print(s1)"
   ]
  },
  {
   "cell_type": "code",
   "execution_count": 17,
   "id": "370a58c9-a282-447c-b7c8-a5d876bd9402",
   "metadata": {},
   "outputs": [
    {
     "name": "stdout",
     "output_type": "stream",
     "text": [
      "{'t', 'a', 'i', 10, 'A', 20, 'h', 30}\n"
     ]
    }
   ],
   "source": [
    "s1 = {10,20,30}\n",
    "s1.update(\"Aathi\")\n",
    "print(s1)"
   ]
  },
  {
   "cell_type": "code",
   "execution_count": null,
   "id": "89f5f622-188a-4fc7-8663-a690edef0fd9",
   "metadata": {},
   "outputs": [],
   "source": []
  }
 ],
 "metadata": {
  "kernelspec": {
   "display_name": "Python 3 (ipykernel)",
   "language": "python",
   "name": "python3"
  },
  "language_info": {
   "codemirror_mode": {
    "name": "ipython",
    "version": 3
   },
   "file_extension": ".py",
   "mimetype": "text/x-python",
   "name": "python",
   "nbconvert_exporter": "python",
   "pygments_lexer": "ipython3",
   "version": "3.12.5"
  }
 },
 "nbformat": 4,
 "nbformat_minor": 5
}
