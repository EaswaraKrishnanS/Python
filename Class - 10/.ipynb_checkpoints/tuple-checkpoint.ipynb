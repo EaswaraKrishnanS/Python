{
 "cells": [
  {
   "cell_type": "code",
   "execution_count": 3,
   "id": "212d42bf-410f-48a5-9f21-c7b2cb13c153",
   "metadata": {},
   "outputs": [
    {
     "name": "stdout",
     "output_type": "stream",
     "text": [
      "()\n",
      "(10,)\n",
      "(10, 20, 30, 40, 50)\n",
      "(10, 20, 30, 40, 50)\n",
      "(0, 1, 2, 3, 4, 5, 6, 7, 8, 9)\n",
      "<class 'tuple'>\n",
      "<class 'tuple'>\n",
      "<class 'tuple'>\n",
      "<class 'tuple'>\n",
      "<class 'tuple'>\n"
     ]
    }
   ],
   "source": [
    "t1 = ()\n",
    "t2 = 10,\n",
    "t3 = 10 , 20 , 30 , 40 , 50\n",
    "t4 = (10,20,30,40,50)\n",
    "t5 = tuple(range(10))\n",
    "\n",
    "print(t1)\n",
    "print(t2)\n",
    "print(t3)\n",
    "print(t4)\n",
    "print(t5)\n",
    "\n",
    "print(type(t1))\n",
    "print(type(t2))\n",
    "print(type(t3))\n",
    "print(type(t4))\n",
    "print(type(t5))"
   ]
  },
  {
   "cell_type": "code",
   "execution_count": 4,
   "id": "9eb95a0a-b34b-4207-bbb8-6d048d56d3bf",
   "metadata": {},
   "outputs": [
    {
     "name": "stdout",
     "output_type": "stream",
     "text": [
      "Rahul\n",
      "Aathi\n",
      "Siva\n"
     ]
    }
   ],
   "source": [
    "enames = (\"Rahul\" , \"Aathi\" , \"Siva\" )\n",
    "\n",
    "#Iterate Tuple Object Using For Loop And While Loop\n",
    "\n",
    "#For Loop\n",
    "\n",
    "for ename in enames :\n",
    "    print(ename)\n",
    "    "
   ]
  },
  {
   "cell_type": "code",
   "execution_count": 9,
   "id": "1c9bb13e-c07c-46a2-85d9-5f229b1ad3c3",
   "metadata": {},
   "outputs": [
    {
     "name": "stdout",
     "output_type": "stream",
     "text": [
      "Rahul\n",
      "Aathi\n",
      "Siva\n"
     ]
    }
   ],
   "source": [
    "enames = (\"Rahul\" , \"Aathi\" , \"Siva\" )\n",
    "\n",
    "#Iterate Tuple Object Using For Loop And While Loop\n",
    "\n",
    "#While Loop\n",
    "i=0\n",
    "while i<=len(enames)-1:\n",
    "    print(enames[i])\n",
    "    i=i+1"
   ]
  },
  {
   "cell_type": "code",
   "execution_count": 10,
   "id": "3f6c51fe-6774-4ea7-9667-5baf3b4cc11a",
   "metadata": {},
   "outputs": [
    {
     "name": "stdout",
     "output_type": "stream",
     "text": [
      "('Rahul', 'Aathi', 'Siva')\n",
      "<class 'tuple'>\n"
     ]
    }
   ],
   "source": [
    "enames = (\"Rahul\" , \"Aathi\" , \"Siva\" )\n",
    "\n",
    "list(enames).sort()\n",
    "\n",
    "print(enames)\n",
    "print(type(enames))"
   ]
  },
  {
   "cell_type": "code",
   "execution_count": 11,
   "id": "eb55df40-57df-4cf6-9645-9cce8236fd72",
   "metadata": {},
   "outputs": [
    {
     "name": "stdout",
     "output_type": "stream",
     "text": [
      "1\n"
     ]
    }
   ],
   "source": [
    "enames = (\"Rahul\" , \"Aathi\" , \"Siva\" )\n",
    "\n",
    "print(enames.index(\"Aathi\"))"
   ]
  },
  {
   "cell_type": "code",
   "execution_count": 12,
   "id": "ecb0f9f4-6b5a-496a-a3f6-eba94cbbf794",
   "metadata": {},
   "outputs": [
    {
     "name": "stdout",
     "output_type": "stream",
     "text": [
      "1\n"
     ]
    }
   ],
   "source": [
    "enames = (\"Rahul\" , \"Aathi\" , \"Siva\" )\n",
    "\n",
    "print(enames.count(\"Aathi\"))"
   ]
  },
  {
   "cell_type": "code",
   "execution_count": 13,
   "id": "d1254cd2-4437-40f8-8ecc-42493d44ba14",
   "metadata": {},
   "outputs": [
    {
     "ename": "AttributeError",
     "evalue": "'tuple' object has no attribute 'copy'",
     "output_type": "error",
     "traceback": [
      "\u001b[1;31m---------------------------------------------------------------------------\u001b[0m",
      "\u001b[1;31mAttributeError\u001b[0m                            Traceback (most recent call last)",
      "Cell \u001b[1;32mIn[13], line 2\u001b[0m\n\u001b[0;32m      1\u001b[0m t1 \u001b[38;5;241m=\u001b[39m (\u001b[38;5;241m10\u001b[39m,\u001b[38;5;241m20\u001b[39m,\u001b[38;5;241m30\u001b[39m,\u001b[38;5;241m40\u001b[39m,\u001b[38;5;241m50\u001b[39m)\n\u001b[1;32m----> 2\u001b[0m t2\u001b[38;5;241m=\u001b[39m\u001b[43mt1\u001b[49m\u001b[38;5;241;43m.\u001b[39;49m\u001b[43mcopy\u001b[49m()\n",
      "\u001b[1;31mAttributeError\u001b[0m: 'tuple' object has no attribute 'copy'"
     ]
    }
   ],
   "source": [
    "t1 = (10,20,30,40,50)\n",
    "t2=t1.copy()\n",
    "print(t1)\n",
    "print(t2)"
   ]
  },
  {
   "cell_type": "code",
   "execution_count": 14,
   "id": "62eed375-7f05-405a-a8f1-0f6902683cd6",
   "metadata": {},
   "outputs": [
    {
     "name": "stdout",
     "output_type": "stream",
     "text": [
      "(10, 20, 30, 40, 50)\n",
      "(10, 20, 30, 40, 50)\n"
     ]
    }
   ],
   "source": [
    "t1 = (10,20,30,40,50)\n",
    "t2=t1\n",
    "print(t1)\n",
    "print(t2)"
   ]
  },
  {
   "cell_type": "code",
   "execution_count": 16,
   "id": "2b3731b7-3a2c-4ee3-a9f6-e81d19d648ab",
   "metadata": {},
   "outputs": [
    {
     "name": "stdout",
     "output_type": "stream",
     "text": [
      "<class 'dict'>\n",
      "<class 'set'>\n"
     ]
    }
   ],
   "source": [
    "s1 = {}\n",
    "print(type(s1))\n",
    "\n",
    "#In Python, when you create an empty pair of curly braces {}, it is interpreted as an empty dictionary.\n",
    "\n",
    "s2 = set()\n",
    "print(type(s2)) \n"
   ]
  },
  {
   "cell_type": "code",
   "execution_count": null,
   "id": "f5c173c4-307e-4210-aced-d1ca0b4cf963",
   "metadata": {},
   "outputs": [],
   "source": []
  }
 ],
 "metadata": {
  "kernelspec": {
   "display_name": "Python 3 (ipykernel)",
   "language": "python",
   "name": "python3"
  },
  "language_info": {
   "codemirror_mode": {
    "name": "ipython",
    "version": 3
   },
   "file_extension": ".py",
   "mimetype": "text/x-python",
   "name": "python",
   "nbconvert_exporter": "python",
   "pygments_lexer": "ipython3",
   "version": "3.12.5"
  }
 },
 "nbformat": 4,
 "nbformat_minor": 5
}
