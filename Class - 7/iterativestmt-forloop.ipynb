{
 "cells": [
  {
   "cell_type": "code",
   "execution_count": 6,
   "id": "7943854c-b3cf-48b2-b542-6e86ee880a95",
   "metadata": {},
   "outputs": [
    {
     "name": "stdout",
     "output_type": "stream",
     "text": [
      "Good Morning 0\tGood Morning 1\tGood Morning 2\tGood Morning 3\tGood Morning 4\tGood Morning 5\tGood Morning 6\tGood Morning 7\tGood Morning 8\tGood Morning 9\tGood Morning 10\tGood Morning 11\tGood Morning 12\tGood Morning 13\tGood Morning 14\tGood Morning 15\tGood Morning 16\tGood Morning 17\tGood Morning 18\tGood Morning 19\t"
     ]
    }
   ],
   "source": [
    "#print Good Morning 20 Times Using For Loop\n",
    "for i in range(20) :\n",
    "    print(\"Good Morning\",i,end=\"\\t\")"
   ]
  },
  {
   "cell_type": "code",
   "execution_count": 7,
   "id": "dde7d184-a401-41c6-8d29-a259cddd37d4",
   "metadata": {},
   "outputs": [
    {
     "name": "stdout",
     "output_type": "stream",
     "text": [
      "10  11  12  13  14  15  16  17  18  19  20  21  22  23  24  25  26  27  28  29  30  31  32  33  34  35  36  37  38  39  40  41  42  43  44  45  46  47  48  49  50  "
     ]
    }
   ],
   "source": [
    "#Print 10 To 50 Numbers Using Foor Loop\n",
    "for i in range(10,51,1):\n",
    "    print(i,end=\"  \")"
   ]
  },
  {
   "cell_type": "code",
   "execution_count": 8,
   "id": "3661d8fc-c1f7-458d-9aa9-817537419a56",
   "metadata": {},
   "outputs": [
    {
     "name": "stdout",
     "output_type": "stream",
     "text": [
      "0  2  4  6  8  10  12  14  16  18  "
     ]
    }
   ],
   "source": [
    "#Print 1st Even Numbers \n",
    "for i in range (0,20,2):\n",
    "    print(i,end=\"  \")"
   ]
  },
  {
   "cell_type": "code",
   "execution_count": 10,
   "id": "95de6d97-08af-4791-9756-7a34d7c6191b",
   "metadata": {},
   "outputs": [
    {
     "name": "stdout",
     "output_type": "stream",
     "text": [
      "*\n",
      "**\n",
      "***\n",
      "****\n",
      "*****\n"
     ]
    }
   ],
   "source": [
    "#Print Like Below Format\n",
    "#*\n",
    "#**\n",
    "#***\n",
    "#****\n",
    "#*****\n",
    "for i in range(1,6):\n",
    "    print(\"*\"*i)"
   ]
  },
  {
   "cell_type": "code",
   "execution_count": null,
   "id": "7fb579fa-7a71-4d1f-bb55-c1f35c9c53cd",
   "metadata": {},
   "outputs": [],
   "source": []
  }
 ],
 "metadata": {
  "kernelspec": {
   "display_name": "Python 3 (ipykernel)",
   "language": "python",
   "name": "python3"
  },
  "language_info": {
   "codemirror_mode": {
    "name": "ipython",
    "version": 3
   },
   "file_extension": ".py",
   "mimetype": "text/x-python",
   "name": "python",
   "nbconvert_exporter": "python",
   "pygments_lexer": "ipython3",
   "version": "3.12.5"
  }
 },
 "nbformat": 4,
 "nbformat_minor": 5
}
