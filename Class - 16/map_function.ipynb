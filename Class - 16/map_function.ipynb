{
 "cells": [
  {
   "cell_type": "code",
   "execution_count": 3,
   "id": "f873eeaf-b312-43c9-a09c-92e7082238dc",
   "metadata": {},
   "outputs": [
    {
     "name": "stdout",
     "output_type": "stream",
     "text": [
      "[10, 20, 30, 40, 50]\n",
      "[100, 400, 900, 1600, 2500]\n"
     ]
    }
   ],
   "source": [
    "number = [10,20,30,40,50]\n",
    "\n",
    "new_number = []\n",
    "\n",
    "for num in number :\n",
    "    new_number.append(num * num)\n",
    "\n",
    "print(number)\n",
    "print(new_number)"
   ]
  },
  {
   "cell_type": "code",
   "execution_count": 9,
   "id": "0201887b-d623-43b3-9dab-f233d8f1154f",
   "metadata": {},
   "outputs": [
    {
     "name": "stdout",
     "output_type": "stream",
     "text": [
      "[10, 20, 30, 40, 50]\n",
      "[100, 400, 900, 1600, 2500]\n",
      "<map object at 0x000001CCDBC27820>\n",
      "<class 'map'>\n"
     ]
    }
   ],
   "source": [
    "number = [10,20,30,40,50]\n",
    "\n",
    "def squareit (num) :\n",
    "    return num * num\n",
    "\n",
    "map_obj = map(squareit,number)\n",
    "\n",
    "print(number)\n",
    "#print(tuple(map_obj))\n",
    "print(list(map_obj))\n",
    "print(map_obj)\n",
    "print(type(map_obj))\n"
   ]
  },
  {
   "cell_type": "code",
   "execution_count": 3,
   "id": "7d9ffc9b-7517-42a3-b88e-a2b54e916e0d",
   "metadata": {},
   "outputs": [
    {
     "name": "stdout",
     "output_type": "stream",
     "text": [
      "[10, 20, 30, 40, 50]\n",
      "[100, 400, 900, 1600, 2500]\n"
     ]
    }
   ],
   "source": [
    "number = [10,20,30,40,50]\n",
    "\n",
    "new_number = list(map(lambda num : num * num , number))\n",
    "\n",
    "print(number)\n",
    "print(new_number)"
   ]
  },
  {
   "cell_type": "code",
   "execution_count": null,
   "id": "ab789bdb-e428-411e-bf42-370420dda6d0",
   "metadata": {},
   "outputs": [],
   "source": []
  }
 ],
 "metadata": {
  "kernelspec": {
   "display_name": "Python 3 (ipykernel)",
   "language": "python",
   "name": "python3"
  },
  "language_info": {
   "codemirror_mode": {
    "name": "ipython",
    "version": 3
   },
   "file_extension": ".py",
   "mimetype": "text/x-python",
   "name": "python",
   "nbconvert_exporter": "python",
   "pygments_lexer": "ipython3",
   "version": "3.12.5"
  }
 },
 "nbformat": 4,
 "nbformat_minor": 5
}
