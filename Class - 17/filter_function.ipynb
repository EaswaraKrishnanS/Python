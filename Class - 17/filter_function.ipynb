{
 "cells": [
  {
   "cell_type": "code",
   "execution_count": 5,
   "id": "f544045c-1aac-4df9-be3e-d280dd72bc46",
   "metadata": {},
   "outputs": [
    {
     "name": "stdout",
     "output_type": "stream",
     "text": [
      "[2, 2, 2, 2, 2]\n",
      "set()\n",
      "()\n"
     ]
    }
   ],
   "source": [
    "numbers = [1,1,1,1,1]\n",
    "\n",
    "map_obj = map(lambda num : num + 1 , numbers)\n",
    "\n",
    "l = list(map_obj)\n",
    "s = set(map_obj)\n",
    "t = tuple(map_obj)\n",
    "\n",
    "print(l)\n",
    "print(s)\n",
    "print(t)"
   ]
  },
  {
   "cell_type": "code",
   "execution_count": 8,
   "id": "757e1b4f-a278-43d4-ae9b-440c949893a4",
   "metadata": {},
   "outputs": [
    {
     "name": "stdout",
     "output_type": "stream",
     "text": [
      "[{'id': 1, 'name': 'Marker Pen', 'category': 'st'}, {'id': 3, 'name': 'Pens', 'category': 'st'}, {'id': 5, 'name': 'Duster', 'category': 'st'}]\n",
      "[{'id': 2, 'name': 'Sugar', 'category': 'gr'}, {'id': 4, 'name': 'Millet', 'category': 'gr'}, {'id': 6, 'name': 'Dal', 'category': 'gr'}]\n"
     ]
    }
   ],
   "source": [
    "products=[\n",
    "\t{'id':1,'name':'Marker Pen', 'category':'st'},\n",
    "\t{'id':2,'name':'Sugar', 'category':'gr'},\n",
    "\t{'id':3,'name':'Pens', 'category':'st'},\n",
    "\t{'id':4,'name':'Millet', 'category':'gr'},\n",
    "\t{'id':5,'name':'Duster', 'category':'st'},\n",
    "\t{'id':6,'name':'Dal', 'category':'gr'}\n",
    "]\n",
    "st_products=[]\n",
    "gr_products=[]\n",
    "\n",
    "for product in products :\n",
    "    if product['category'] == 'st' :\n",
    "        st_products.append(product)\n",
    "    else :\n",
    "        gr_products.append(product)\n",
    "\n",
    "print(st_products)\n",
    "print(gr_products)"
   ]
  },
  {
   "cell_type": "code",
   "execution_count": 10,
   "id": "83f070d3-93a8-4fd2-91a1-245186e588f4",
   "metadata": {},
   "outputs": [
    {
     "name": "stdout",
     "output_type": "stream",
     "text": [
      "[{'id': 1, 'name': 'Marker Pen', 'category': 'st'}, {'id': 3, 'name': 'Pens', 'category': 'st'}, {'id': 5, 'name': 'Duster', 'category': 'st'}]\n"
     ]
    }
   ],
   "source": [
    "products=[\n",
    "\t{'id':1,'name':'Marker Pen', 'category':'st'},\n",
    "\t{'id':2,'name':'Sugar', 'category':'gr'},\n",
    "\t{'id':3,'name':'Pens', 'category':'st'},\n",
    "\t{'id':4,'name':'Millet', 'category':'gr'},\n",
    "\t{'id':5,'name':'Duster', 'category':'st'},\n",
    "\t{'id':6,'name':'Dal', 'category':'gr'}\n",
    "]\n",
    "\n",
    "def filterdata(product) :\n",
    "    if product['category'] == 'st':\n",
    "        return True\n",
    "    else:\n",
    "        return False\n",
    "\n",
    "print(list(filter(filterdata,products)))"
   ]
  },
  {
   "cell_type": "code",
   "execution_count": 11,
   "id": "a39a109f-ae51-4c6b-9ceb-ac1093462180",
   "metadata": {},
   "outputs": [
    {
     "name": "stdout",
     "output_type": "stream",
     "text": [
      "[{'id': 1, 'name': 'Marker Pen', 'category': 'st'}, {'id': 3, 'name': 'Pens', 'category': 'st'}, {'id': 5, 'name': 'Duster', 'category': 'st'}]\n"
     ]
    }
   ],
   "source": [
    "products=[\n",
    "\t{'id':1,'name':'Marker Pen', 'category':'st'},\n",
    "\t{'id':2,'name':'Sugar', 'category':'gr'},\n",
    "\t{'id':3,'name':'Pens', 'category':'st'},\n",
    "\t{'id':4,'name':'Millet', 'category':'gr'},\n",
    "\t{'id':5,'name':'Duster', 'category':'st'},\n",
    "\t{'id':6,'name':'Dal', 'category':'gr'}\n",
    "]\n",
    "\n",
    "def filterdata(product) :\n",
    "    if product['category'] == 'st':\n",
    "        return True\n",
    "    else:\n",
    "        return False\n",
    "\n",
    "filter_obj = filter(filterdata,products)\n",
    "st_poducts = list(filter_obj)\n",
    "print(st_products)"
   ]
  },
  {
   "cell_type": "code",
   "execution_count": 16,
   "id": "17e4e9fe-9c9d-4ac6-a314-e3cd6ecf9888",
   "metadata": {},
   "outputs": [
    {
     "name": "stdout",
     "output_type": "stream",
     "text": [
      "[2, 4, 6, 8, 10]\n"
     ]
    }
   ],
   "source": [
    "numbers = [1,2,3,4,5,6,7,8,9,10]\n",
    "\n",
    "def filterdata(num) :\n",
    "    return num%2==0\n",
    "\n",
    "filter_obj = filter(filterdata,numbers)\n",
    "even_num = list(filter_obj)\n",
    "print(even_num)"
   ]
  },
  {
   "cell_type": "code",
   "execution_count": 18,
   "id": "42be9b03-4538-4324-a46b-9b05f9e9e753",
   "metadata": {},
   "outputs": [
    {
     "name": "stdout",
     "output_type": "stream",
     "text": [
      "[2, 4, 6, 8, 10]\n"
     ]
    }
   ],
   "source": [
    "numbers = [1,2,3,4,5,6,7,8,9,10]\n",
    "\n",
    "filter_obj = filter(lambda num : num % 2 == 0 , numbers)\n",
    "even_num = list(filter_obj)\n",
    "print(even_num)"
   ]
  },
  {
   "cell_type": "code",
   "execution_count": 19,
   "id": "a3ccad2b-e01a-446c-ba97-47b832f0c66f",
   "metadata": {},
   "outputs": [
    {
     "name": "stdout",
     "output_type": "stream",
     "text": [
      "[2, 4, 6, 8, 10]\n"
     ]
    }
   ],
   "source": [
    "numbers = [1,2,3,4,5,6,7,8,9,10]\n",
    "even_num = list(filter(lambda num : num % 2 == 0 , numbers))\n",
    "print(even_num)"
   ]
  },
  {
   "cell_type": "code",
   "execution_count": null,
   "id": "cf9e6b54-5856-4ce2-816b-205b8c28ebd1",
   "metadata": {},
   "outputs": [],
   "source": []
  }
 ],
 "metadata": {
  "kernelspec": {
   "display_name": "Python 3 (ipykernel)",
   "language": "python",
   "name": "python3"
  },
  "language_info": {
   "codemirror_mode": {
    "name": "ipython",
    "version": 3
   },
   "file_extension": ".py",
   "mimetype": "text/x-python",
   "name": "python",
   "nbconvert_exporter": "python",
   "pygments_lexer": "ipython3",
   "version": "3.12.5"
  }
 },
 "nbformat": 4,
 "nbformat_minor": 5
}
