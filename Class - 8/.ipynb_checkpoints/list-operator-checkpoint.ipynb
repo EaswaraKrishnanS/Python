{
 "cells": [
  {
   "cell_type": "code",
   "execution_count": 1,
   "id": "539d04b3-e0d5-4bfa-948a-240a309a359d",
   "metadata": {},
   "outputs": [
    {
     "name": "stdout",
     "output_type": "stream",
     "text": [
      "[10, 20, 30, 40, 50]\n",
      "<class 'list'>\n"
     ]
    }
   ],
   "source": [
    "l1 = [10,20,30,40,50]\n",
    "print(l1)\n",
    "print(type(l1))"
   ]
  },
  {
   "cell_type": "code",
   "execution_count": 2,
   "id": "4be56e3c-6a87-4fd0-89a9-39f6c357e880",
   "metadata": {},
   "outputs": [
    {
     "name": "stdout",
     "output_type": "stream",
     "text": [
      "[10, 20, 10, 20, 22.222, 'Aathi', True, [], {90}]\n",
      "<class 'list'>\n"
     ]
    }
   ],
   "source": [
    "l2 = [10,20,10,20,22.222,\"Aathi\",True,[],{90}]\n",
    "print(l2)\n",
    "print(type(l2))"
   ]
  },
  {
   "cell_type": "code",
   "execution_count": 5,
   "id": "b25d5948-4448-4fca-b5e5-12ee7b001bb2",
   "metadata": {},
   "outputs": [
    {
     "name": "stdout",
     "output_type": "stream",
     "text": [
      "[101, 102, 103, 104]\n",
      "101\n",
      "102\n",
      "103\n",
      "104\n"
     ]
    }
   ],
   "source": [
    "# Using +ve Indexing\n",
    "eids = [101,102,103,104]\n",
    "print(eids)\n",
    "print(eids[0])\n",
    "print(eids[1])\n",
    "print(eids[2])\n",
    "print(eids[3])"
   ]
  },
  {
   "cell_type": "code",
   "execution_count": 7,
   "id": "89066886-c122-4be1-88aa-4c8a471fb91f",
   "metadata": {},
   "outputs": [
    {
     "name": "stdout",
     "output_type": "stream",
     "text": [
      "[101, 102, 103, 104]\n",
      "104\n",
      "103\n",
      "102\n",
      "101\n"
     ]
    }
   ],
   "source": [
    "# Using -ve Indexing\n",
    "eids = [101,102,103,104]\n",
    "print(eids)\n",
    "print(eids[-1])\n",
    "print(eids[-2])\n",
    "print(eids[-3])\n",
    "print(eids[-4])"
   ]
  },
  {
   "cell_type": "code",
   "execution_count": null,
   "id": "ce505978-155a-4589-8d51-75a2347ef9f2",
   "metadata": {},
   "outputs": [],
   "source": []
  }
 ],
 "metadata": {
  "kernelspec": {
   "display_name": "Python 3 (ipykernel)",
   "language": "python",
   "name": "python3"
  },
  "language_info": {
   "codemirror_mode": {
    "name": "ipython",
    "version": 3
   },
   "file_extension": ".py",
   "mimetype": "text/x-python",
   "name": "python",
   "nbconvert_exporter": "python",
   "pygments_lexer": "ipython3",
   "version": "3.12.5"
  }
 },
 "nbformat": 4,
 "nbformat_minor": 5
}
