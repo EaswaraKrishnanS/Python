{
 "cells": [
  {
   "cell_type": "code",
   "execution_count": 1,
   "id": "539d04b3-e0d5-4bfa-948a-240a309a359d",
   "metadata": {},
   "outputs": [
    {
     "name": "stdout",
     "output_type": "stream",
     "text": [
      "[10, 20, 30, 40, 50]\n",
      "<class 'list'>\n"
     ]
    }
   ],
   "source": [
    "l1 = [10,20,30,40,50]\n",
    "print(l1)\n",
    "print(type(l1))"
   ]
  },
  {
   "cell_type": "code",
   "execution_count": 2,
   "id": "4be56e3c-6a87-4fd0-89a9-39f6c357e880",
   "metadata": {},
   "outputs": [
    {
     "name": "stdout",
     "output_type": "stream",
     "text": [
      "[10, 20, 10, 20, 22.222, 'Aathi', True, [], {90}]\n",
      "<class 'list'>\n"
     ]
    }
   ],
   "source": [
    "l2 = [10,20,10,20,22.222,\"Aathi\",True,[],{90}]\n",
    "print(l2)\n",
    "print(type(l2))"
   ]
  },
  {
   "cell_type": "code",
   "execution_count": 5,
   "id": "b25d5948-4448-4fca-b5e5-12ee7b001bb2",
   "metadata": {},
   "outputs": [
    {
     "name": "stdout",
     "output_type": "stream",
     "text": [
      "[101, 102, 103, 104]\n",
      "101\n",
      "102\n",
      "103\n",
      "104\n"
     ]
    }
   ],
   "source": [
    "# Using +ve Indexing\n",
    "eids = [101,102,103,104]\n",
    "print(eids)\n",
    "print(eids[0])\n",
    "print(eids[1])\n",
    "print(eids[2])\n",
    "print(eids[3])"
   ]
  },
  {
   "cell_type": "code",
   "execution_count": 7,
   "id": "89066886-c122-4be1-88aa-4c8a471fb91f",
   "metadata": {},
   "outputs": [
    {
     "name": "stdout",
     "output_type": "stream",
     "text": [
      "[101, 102, 103, 104]\n",
      "104\n",
      "103\n",
      "102\n",
      "101\n"
     ]
    }
   ],
   "source": [
    "# Using -ve Indexing\n",
    "eids = [101,102,103,104]\n",
    "print(eids)\n",
    "print(eids[-1])\n",
    "print(eids[-2])\n",
    "print(eids[-3])\n",
    "print(eids[-4])"
   ]
  },
  {
   "cell_type": "code",
   "execution_count": 10,
   "id": "aa847b36-63dc-46fb-a1ad-a389ec666634",
   "metadata": {},
   "outputs": [
    {
     "name": "stdout",
     "output_type": "stream",
     "text": [
      "['Aathi', 'Rahul', 'Siva', 'Bala']\n"
     ]
    }
   ],
   "source": [
    "enames = [\"Aathi\" , \"Rahul\" , \"Siva\" , \"Bala\"]\n",
    "print(enames)"
   ]
  },
  {
   "cell_type": "code",
   "execution_count": 8,
   "id": "ce505978-155a-4589-8d51-75a2347ef9f2",
   "metadata": {},
   "outputs": [
    {
     "name": "stdout",
     "output_type": "stream",
     "text": [
      "Aathi\n",
      "Rahul\n",
      "Siva\n",
      "Bala\n"
     ]
    }
   ],
   "source": [
    "enames = [\"Aathi\" , \"Rahul\" , \"Siva\" , \"Bala\"]\n",
    "\n",
    "for ename in enames :\n",
    "    print(ename)"
   ]
  },
  {
   "cell_type": "code",
   "execution_count": 12,
   "id": "c23b0b5d-06da-4780-b7fe-e4362b6cd55a",
   "metadata": {},
   "outputs": [
    {
     "name": "stdout",
     "output_type": "stream",
     "text": [
      "Aathi\n",
      "Rahul\n",
      "Siva\n",
      "Bala\n"
     ]
    }
   ],
   "source": [
    "enames = [\"Aathi\" , \"Rahul\" , \"Siva\" , \"Bala\"]\n",
    "\n",
    "i=0\n",
    "while i<=3 :\n",
    "    print(enames[i])\n",
    "    i=i+1"
   ]
  },
  {
   "cell_type": "code",
   "execution_count": 14,
   "id": "0fadb613-37ec-4425-8530-c9fed1b129c2",
   "metadata": {},
   "outputs": [
    {
     "name": "stdout",
     "output_type": "stream",
     "text": [
      "225\n"
     ]
    }
   ],
   "source": [
    "#Total The Marks Using For Loop\n",
    "marks = [35,36,37,38,39,40]\n",
    "total_marks = 0\n",
    "\n",
    "for mark in marks :\n",
    "    total_marks = total_marks + mark\n",
    "print(total_marks)"
   ]
  },
  {
   "cell_type": "code",
   "execution_count": 15,
   "id": "3f897c1f-5109-4e05-a956-4670eea72f7f",
   "metadata": {},
   "outputs": [
    {
     "name": "stdout",
     "output_type": "stream",
     "text": [
      "225\n"
     ]
    }
   ],
   "source": [
    "#Total The Marks Using While Loop\n",
    "marks = [35,36,37,38,39,40]\n",
    "total_marks = 0\n",
    "\n",
    "i=0\n",
    "while i<=5 :\n",
    "    total_marks=total_marks + marks[i]\n",
    "    i=i+1\n",
    "print(total_marks)"
   ]
  },
  {
   "cell_type": "code",
   "execution_count": null,
   "id": "a7dfab17-2149-45aa-9f12-8c4dabbc4946",
   "metadata": {},
   "outputs": [],
   "source": [
    "l1 = []\n",
    "l2 = [10,20,30,40]\n",
    "l3 = list(range(0,5))\n",
    "l4 = eval(input(\"Enter Your Data : \"))\n",
    "print(l1)\n",
    "print(l2)\n",
    "print(l3)\n",
    "print(l4)"
   ]
  },
  {
   "cell_type": "code",
   "execution_count": 22,
   "id": "f990da12-c70d-40d8-890c-4fae89667752",
   "metadata": {},
   "outputs": [
    {
     "name": "stdout",
     "output_type": "stream",
     "text": [
      "5\n",
      "1\n"
     ]
    }
   ],
   "source": []
  },
  {
   "cell_type": "code",
   "execution_count": null,
   "id": "27901b69-5837-4f7e-83c3-3ed2437e0865",
   "metadata": {},
   "outputs": [],
   "source": []
  }
 ],
 "metadata": {
  "kernelspec": {
   "display_name": "Python 3 (ipykernel)",
   "language": "python",
   "name": "python3"
  },
  "language_info": {
   "codemirror_mode": {
    "name": "ipython",
    "version": 3
   },
   "file_extension": ".py",
   "mimetype": "text/x-python",
   "name": "python",
   "nbconvert_exporter": "python",
   "pygments_lexer": "ipython3",
   "version": "3.12.5"
  }
 },
 "nbformat": 4,
 "nbformat_minor": 5
}
