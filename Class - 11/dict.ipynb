{
 "cells": [
  {
   "cell_type": "code",
   "execution_count": 1,
   "id": "1976d9ff-1b7e-4ecb-a1c3-b8d3da020a1e",
   "metadata": {},
   "outputs": [
    {
     "name": "stdout",
     "output_type": "stream",
     "text": [
      "{}\n",
      "<class 'dict'>\n"
     ]
    }
   ],
   "source": [
    "d1 = {}\n",
    "print(d1)\n",
    "print(type(d1))"
   ]
  },
  {
   "cell_type": "code",
   "execution_count": 9,
   "id": "2f807008-a6a0-4c4f-9bae-3b4e6a06f614",
   "metadata": {},
   "outputs": [
    {
     "name": "stdout",
     "output_type": "stream",
     "text": [
      "{'eid': 101, 'ename': 'Aathi', 'sal': 75000, 'loc': 'Cuddalore'}\n"
     ]
    }
   ],
   "source": [
    "emp = {\n",
    "    'eid' : 101,\n",
    "    'ename' :'Aathi',\n",
    "    'sal' : 75000,\n",
    "    'loc' : 'Cuddalore'\n",
    "}\n",
    "print(emp)"
   ]
  },
  {
   "cell_type": "code",
   "execution_count": 11,
   "id": "dfad05f2-ec13-447a-baba-e8821854bfe5",
   "metadata": {},
   "outputs": [
    {
     "name": "stdout",
     "output_type": "stream",
     "text": [
      "Aathi\n"
     ]
    }
   ],
   "source": [
    "emp = {\n",
    "    'eid' : 101,\n",
    "    'ename' : 'Aathi',\n",
    "    'sal' : 75000,\n",
    "    'loc' : 'Cuddalore'\n",
    "}\n",
    "print(emp.get('ename'))\n"
   ]
  },
  {
   "cell_type": "code",
   "execution_count": 17,
   "id": "0416422f-17a0-4967-b5b8-d05e04a4987c",
   "metadata": {},
   "outputs": [
    {
     "name": "stdout",
     "output_type": "stream",
     "text": [
      "Aathi\n",
      "101\n",
      "75000\n",
      "Cuddalore\n",
      "True\n"
     ]
    }
   ],
   "source": [
    "emp = {\n",
    "    'eid' : 101,\n",
    "    'ename' : 'Aathi',\n",
    "    'sal' : 75000,\n",
    "    'loc' : 'Cuddalore',\n",
    "    'avail' : True\n",
    "}\n",
    "print(emp['ename'])\n",
    "print(emp['eid'])\n",
    "print(emp['sal'])\n",
    "print(emp['loc'])\n",
    "print(emp['avail'])"
   ]
  },
  {
   "cell_type": "code",
   "execution_count": 18,
   "id": "0dbf7baf-a7b7-434b-9810-5eaaa54eb752",
   "metadata": {},
   "outputs": [
    {
     "name": "stdout",
     "output_type": "stream",
     "text": [
      "Aathi\n",
      "101\n",
      "75000\n",
      "Cuddalore\n",
      "True\n"
     ]
    }
   ],
   "source": [
    "emp = {\n",
    "    'eid' : 101,\n",
    "    'ename' : 'Aathi',\n",
    "    'sal' : 75000,\n",
    "    'loc' : 'Cuddalore',\n",
    "    'avail' : True\n",
    "}\n",
    "print(emp.get('ename'))\n",
    "print(emp.get('eid'))\n",
    "print(emp.get('sal'))\n",
    "print(emp.get('loc'))\n",
    "print(emp.get('avail'))"
   ]
  },
  {
   "cell_type": "code",
   "execution_count": 26,
   "id": "efdec96a-a991-42cd-a862-de267ccc90c7",
   "metadata": {},
   "outputs": [
    {
     "name": "stdout",
     "output_type": "stream",
     "text": [
      "eid\n",
      "ename\n",
      "sal\n",
      "loc\n",
      "avail\n"
     ]
    }
   ],
   "source": [
    "emp = {\n",
    "    'eid' : 101,\n",
    "    'ename' : 'Aathi',\n",
    "    'sal' : 75000,\n",
    "    'loc' : 'Cuddalore',\n",
    "    'avail' : True\n",
    "}\n",
    "for key in emp.keys():\n",
    "    print(key)"
   ]
  },
  {
   "cell_type": "code",
   "execution_count": 24,
   "id": "7a562317-576a-4884-90b5-faf87a8e4de7",
   "metadata": {},
   "outputs": [
    {
     "name": "stdout",
     "output_type": "stream",
     "text": [
      "101\n",
      "Aathi\n",
      "75000\n",
      "Cuddalore\n",
      "True\n"
     ]
    }
   ],
   "source": [
    "emp = {\n",
    "    'eid' : 101,\n",
    "    'ename' : 'Aathi',\n",
    "    'sal' : 75000,\n",
    "    'loc' : 'Cuddalore',\n",
    "    'avail' : True\n",
    "}\n",
    "for key in emp.values():\n",
    "    print(key)"
   ]
  },
  {
   "cell_type": "code",
   "execution_count": 2,
   "id": "8c86ff9d-68bd-4009-b3fb-73b60eda528a",
   "metadata": {},
   "outputs": [
    {
     "name": "stdout",
     "output_type": "stream",
     "text": [
      "eid : 101\n",
      "ename : Aathi\n",
      "sal : 75000\n",
      "loc : Cuddalore\n",
      "avail : True\n"
     ]
    }
   ],
   "source": [
    "emp = {\n",
    "    'eid' : 101,\n",
    "    'ename' : 'Aathi',\n",
    "    'sal' : 75000,\n",
    "    'loc' : 'Cuddalore',\n",
    "    'avail' : True\n",
    "}\n",
    "for key,value in emp.items():\n",
    "    print(key,':',value)"
   ]
  },
  {
   "cell_type": "code",
   "execution_count": null,
   "id": "db13be5f-276a-4f76-a19c-355d6b935ba4",
   "metadata": {},
   "outputs": [],
   "source": []
  }
 ],
 "metadata": {
  "kernelspec": {
   "display_name": "Python 3 (ipykernel)",
   "language": "python",
   "name": "python3"
  },
  "language_info": {
   "codemirror_mode": {
    "name": "ipython",
    "version": 3
   },
   "file_extension": ".py",
   "mimetype": "text/x-python",
   "name": "python",
   "nbconvert_exporter": "python",
   "pygments_lexer": "ipython3",
   "version": "3.12.5"
  }
 },
 "nbformat": 4,
 "nbformat_minor": 5
}
