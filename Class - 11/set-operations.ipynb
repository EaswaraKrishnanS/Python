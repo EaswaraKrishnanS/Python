{
 "cells": [
  {
   "cell_type": "code",
   "execution_count": 1,
   "id": "18ddd18f-95fe-46a4-861f-e5e8f2f0367b",
   "metadata": {},
   "outputs": [
    {
     "name": "stdout",
     "output_type": "stream",
     "text": [
      "{70, 40, 10, 80, 50, 20, 90, 60, 30}\n"
     ]
    }
   ],
   "source": [
    "s1 = {10,20,30,40,50}\n",
    "s2 = {60,70,80,90}\n",
    "print(s1.union(s2))\n",
    "#print(s1.intersection(s2))\n",
    "#print(s1.difference(s2))\n",
    "#print(s2.difference(s1))\n",
    "#print(s1.symmertic_difference(s2))"
   ]
  },
  {
   "cell_type": "code",
   "execution_count": 10,
   "id": "323f7d41-41ac-411f-ab69-36c68c2fcc5c",
   "metadata": {},
   "outputs": [
    {
     "name": "stdout",
     "output_type": "stream",
     "text": [
      "{40, 60, 30}\n",
      "{40, 60, 30}\n"
     ]
    }
   ],
   "source": [
    "s1 = {10,20,30,40,50,60}\n",
    "s2 = {30,40,60,70}\n",
    "print(s1.intersection(s2))\n",
    "print(s1 & s2)"
   ]
  },
  {
   "cell_type": "code",
   "execution_count": 12,
   "id": "63bb39a6-3083-4c52-ab33-c56b1737e87a",
   "metadata": {},
   "outputs": [
    {
     "name": "stdout",
     "output_type": "stream",
     "text": [
      "{70}\n",
      "{70}\n"
     ]
    }
   ],
   "source": [
    "s1 = {10,20,30,40,50,60}\n",
    "s2 = {30,40,60,70}\n",
    "print(s2.difference(s1))\n",
    "print(s2 - s1)"
   ]
  },
  {
   "cell_type": "code",
   "execution_count": 13,
   "id": "94bc6ddf-edeb-499f-b618-bcf9908610f3",
   "metadata": {},
   "outputs": [
    {
     "name": "stdout",
     "output_type": "stream",
     "text": [
      "{50, 10, 20}\n",
      "{50, 10, 20}\n"
     ]
    }
   ],
   "source": [
    "s1 = {10,20,30,40,50,60}\n",
    "s2 = {30,40,60,70}\n",
    "print(s1.difference(s2))\n",
    "print(s1 - s2)"
   ]
  },
  {
   "cell_type": "code",
   "execution_count": 15,
   "id": "2bb650b3-e8be-4a97-9c36-211b5db3aaec",
   "metadata": {},
   "outputs": [
    {
     "name": "stdout",
     "output_type": "stream",
     "text": [
      "{50, 20, 70, 10}\n",
      "{50, 20, 70, 10}\n"
     ]
    }
   ],
   "source": [
    "s1 = {10,20,30,40,50,60}\n",
    "s2 = {30,40,60,70}\n",
    "print(s2.symmetric_difference(s1))\n",
    "print(s2 ^ s1)"
   ]
  },
  {
   "cell_type": "code",
   "execution_count": 16,
   "id": "a8bf048c-4171-4551-8ff1-2ee28aa05455",
   "metadata": {},
   "outputs": [
    {
     "name": "stdout",
     "output_type": "stream",
     "text": [
      "{70, 10, 50, 20}\n",
      "{70, 10, 50, 20}\n"
     ]
    }
   ],
   "source": [
    "s1 = {10,20,30,40,50,60}\n",
    "s2 = {30,40,60,70}\n",
    "print(s1.symmetric_difference(s2))\n",
    "print(s1 ^ s2)"
   ]
  },
  {
   "cell_type": "code",
   "execution_count": null,
   "id": "e492ceaf-3c16-44a7-9751-c9e1112a4930",
   "metadata": {},
   "outputs": [],
   "source": []
  }
 ],
 "metadata": {
  "kernelspec": {
   "display_name": "Python 3 (ipykernel)",
   "language": "python",
   "name": "python3"
  },
  "language_info": {
   "codemirror_mode": {
    "name": "ipython",
    "version": 3
   },
   "file_extension": ".py",
   "mimetype": "text/x-python",
   "name": "python",
   "nbconvert_exporter": "python",
   "pygments_lexer": "ipython3",
   "version": "3.12.5"
  }
 },
 "nbformat": 4,
 "nbformat_minor": 5
}
