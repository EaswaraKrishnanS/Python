{
 "cells": [
  {
   "cell_type": "code",
   "execution_count": 2,
   "id": "679e38e6-da8e-4368-b89d-034fa389a003",
   "metadata": {},
   "outputs": [
    {
     "name": "stdout",
     "output_type": "stream",
     "text": [
      "{102, 103, 104, 105}\n"
     ]
    }
   ],
   "source": [
    "eids = {101,102,103,104,105}\n",
    "eids.pop()\n",
    "print(eids)"
   ]
  },
  {
   "cell_type": "code",
   "execution_count": 3,
   "id": "e652ca2b-174c-406b-ab79-e0e1c18072e2",
   "metadata": {},
   "outputs": [
    {
     "name": "stdout",
     "output_type": "stream",
     "text": [
      "{101, 103, 104, 105}\n"
     ]
    }
   ],
   "source": [
    "eids = {101,102,103,104,105}\n",
    "eids.remove(102)\n",
    "print(eids)"
   ]
  },
  {
   "cell_type": "code",
   "execution_count": 4,
   "id": "a774f921-cc5e-4859-8a41-d7b34e5061f0",
   "metadata": {},
   "outputs": [
    {
     "ename": "KeyError",
     "evalue": "107",
     "output_type": "error",
     "traceback": [
      "\u001b[1;31m---------------------------------------------------------------------------\u001b[0m",
      "\u001b[1;31mKeyError\u001b[0m                                  Traceback (most recent call last)",
      "Cell \u001b[1;32mIn[4], line 2\u001b[0m\n\u001b[0;32m      1\u001b[0m eids \u001b[38;5;241m=\u001b[39m {\u001b[38;5;241m101\u001b[39m,\u001b[38;5;241m102\u001b[39m,\u001b[38;5;241m103\u001b[39m,\u001b[38;5;241m104\u001b[39m,\u001b[38;5;241m105\u001b[39m}\n\u001b[1;32m----> 2\u001b[0m \u001b[43meids\u001b[49m\u001b[38;5;241;43m.\u001b[39;49m\u001b[43mremove\u001b[49m\u001b[43m(\u001b[49m\u001b[38;5;241;43m107\u001b[39;49m\u001b[43m)\u001b[49m\n\u001b[0;32m      3\u001b[0m \u001b[38;5;28mprint\u001b[39m(eids)\n",
      "\u001b[1;31mKeyError\u001b[0m: 107"
     ]
    }
   ],
   "source": [
    "eids = {101,102,103,104,105}\n",
    "eids.remove(107)\n",
    "print(eids)"
   ]
  },
  {
   "cell_type": "code",
   "execution_count": 6,
   "id": "3094918a-ad41-47a5-b0d0-8029024e98ac",
   "metadata": {},
   "outputs": [
    {
     "name": "stdout",
     "output_type": "stream",
     "text": [
      "{101, 102, 103, 104, 105}\n"
     ]
    }
   ],
   "source": [
    "eids = {101,102,103,104,105}\n",
    "eids.discard(107)\n",
    "print(eids)"
   ]
  },
  {
   "cell_type": "code",
   "execution_count": 7,
   "id": "409b09a1-c836-4f90-9dae-ffd730b1deb9",
   "metadata": {},
   "outputs": [
    {
     "name": "stdout",
     "output_type": "stream",
     "text": [
      "set()\n"
     ]
    }
   ],
   "source": [
    "eids = {101,102,103,104,105}\n",
    "eids.clear()\n",
    "print(eids)"
   ]
  },
  {
   "cell_type": "code",
   "execution_count": null,
   "id": "1a37f91f-a507-43fd-876f-a05af60422ae",
   "metadata": {},
   "outputs": [],
   "source": []
  }
 ],
 "metadata": {
  "kernelspec": {
   "display_name": "Python 3 (ipykernel)",
   "language": "python",
   "name": "python3"
  },
  "language_info": {
   "codemirror_mode": {
    "name": "ipython",
    "version": 3
   },
   "file_extension": ".py",
   "mimetype": "text/x-python",
   "name": "python",
   "nbconvert_exporter": "python",
   "pygments_lexer": "ipython3",
   "version": "3.12.5"
  }
 },
 "nbformat": 4,
 "nbformat_minor": 5
}
