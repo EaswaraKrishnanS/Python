{
 "cells": [
  {
   "cell_type": "code",
   "execution_count": null,
   "id": "b2699bc9-849b-4aa9-be53-3dac35de41f9",
   "metadata": {},
   "outputs": [],
   "source": [
    "#List Update Property\n",
    "#Insert()\n",
    "#Append()\n",
    "#Extend()"
   ]
  },
  {
   "cell_type": "code",
   "execution_count": 8,
   "id": "84cd44c9-60c0-4f54-b7fc-9e5f4aa00c49",
   "metadata": {},
   "outputs": [
    {
     "name": "stdout",
     "output_type": "stream",
     "text": [
      "[0, 1, 2, 3, 4, 5, 6, 7, 8, 9, 10, 11, 12, 13, 14]\n"
     ]
    }
   ],
   "source": [
    "l1 = list(range(15))\n",
    "print(l1)\n"
   ]
  },
  {
   "cell_type": "code",
   "execution_count": null,
   "id": "56e37a9f-ae83-43a4-87c8-8d5cc1e5f6c6",
   "metadata": {},
   "outputs": [],
   "source": [
    "#In Insert Method There Is No Indexing Error Without Indexing Declaration\n",
    "#In Append Method There Is Indexing Error Without Indexing Declaration"
   ]
  },
  {
   "cell_type": "code",
   "execution_count": 12,
   "id": "309b020d-3143-4ed5-a08e-95f7a71b81a7",
   "metadata": {},
   "outputs": [
    {
     "name": "stdout",
     "output_type": "stream",
     "text": [
      "[10, 20, 25, 30, 40, 50]\n"
     ]
    }
   ],
   "source": [
    "#Insert Property\n",
    "l1=[10,20,30,40,50]\n",
    "l1.insert(2,25)\n",
    "print(l1)"
   ]
  },
  {
   "cell_type": "code",
   "execution_count": 19,
   "id": "19e06df9-f7bb-451e-8958-c7a5ef4a4bc8",
   "metadata": {},
   "outputs": [
    {
     "name": "stdout",
     "output_type": "stream",
     "text": [
      "[10, 20, 30, 40, 50]\n"
     ]
    }
   ],
   "source": [
    "#Append Property \n",
    "l1 = [10,25,30,40,50]\n",
    "l1[1] = 20\n",
    "print(l1)"
   ]
  },
  {
   "cell_type": "code",
   "execution_count": 15,
   "id": "36c4d85c-88aa-4513-874d-f5ea7e5a856d",
   "metadata": {},
   "outputs": [
    {
     "ename": "TypeError",
     "evalue": "'int' object is not iterable",
     "output_type": "error",
     "traceback": [
      "\u001b[1;31m---------------------------------------------------------------------------\u001b[0m",
      "\u001b[1;31mTypeError\u001b[0m                                 Traceback (most recent call last)",
      "Cell \u001b[1;32mIn[15], line 3\u001b[0m\n\u001b[0;32m      1\u001b[0m l1 \u001b[38;5;241m=\u001b[39m [\u001b[38;5;241m10\u001b[39m,\u001b[38;5;241m20\u001b[39m,\u001b[38;5;241m30\u001b[39m,\u001b[38;5;241m40\u001b[39m,\u001b[38;5;241m50\u001b[39m]\n\u001b[0;32m      2\u001b[0m l2 \u001b[38;5;241m=\u001b[39m [\u001b[38;5;241m60\u001b[39m,\u001b[38;5;241m70\u001b[39m]\n\u001b[1;32m----> 3\u001b[0m \u001b[43ml1\u001b[49m\u001b[38;5;241;43m.\u001b[39;49m\u001b[43mextend\u001b[49m\u001b[43m(\u001b[49m\u001b[38;5;241;43m40\u001b[39;49m\u001b[43m)\u001b[49m\n\u001b[0;32m      4\u001b[0m \u001b[38;5;28mprint\u001b[39m(l1)\n",
      "\u001b[1;31mTypeError\u001b[0m: 'int' object is not iterable"
     ]
    }
   ],
   "source": [
    "#Extend Property With Object Error\n",
    "l1 = [10,20,30,40,50]\n",
    "l2 = [60,70]\n",
    "l1.extend(40)\n",
    "print(l1)"
   ]
  },
  {
   "cell_type": "code",
   "execution_count": 17,
   "id": "3e59a6a0-d31b-4cc3-a49e-3585b086469b",
   "metadata": {},
   "outputs": [
    {
     "name": "stdout",
     "output_type": "stream",
     "text": [
      "[10, 20, 30, 40, 50, 60, 70, 80, 90, 100]\n"
     ]
    }
   ],
   "source": [
    "#Extend Property\n",
    "l1 = [10,20,30,40,50]\n",
    "l1.extend([60,70,80,90,100])\n",
    "print(l1)"
   ]
  },
  {
   "cell_type": "code",
   "execution_count": null,
   "id": "ff5c6cea-409a-4eec-8091-9d0fde2d317e",
   "metadata": {},
   "outputs": [],
   "source": [
    "#Delete Property\n",
    "#Remove()\n",
    "#Del <Declarations>\n",
    "#Clear()"
   ]
  },
  {
   "cell_type": "code",
   "execution_count": 21,
   "id": "bca313c2-662c-4ae6-b307-ce31c1165813",
   "metadata": {},
   "outputs": [
    {
     "ename": "ValueError",
     "evalue": "list.remove(x): x not in list",
     "output_type": "error",
     "traceback": [
      "\u001b[1;31m---------------------------------------------------------------------------\u001b[0m",
      "\u001b[1;31mValueError\u001b[0m                                Traceback (most recent call last)",
      "Cell \u001b[1;32mIn[21], line 2\u001b[0m\n\u001b[0;32m      1\u001b[0m eids \u001b[38;5;241m=\u001b[39m [\u001b[38;5;241m101\u001b[39m,\u001b[38;5;241m102\u001b[39m,\u001b[38;5;241m103\u001b[39m,\u001b[38;5;241m104\u001b[39m,\u001b[38;5;241m105\u001b[39m,\u001b[38;5;241m106\u001b[39m]\n\u001b[1;32m----> 2\u001b[0m \u001b[43meids\u001b[49m\u001b[38;5;241;43m.\u001b[39;49m\u001b[43mremove\u001b[49m\u001b[43m(\u001b[49m\u001b[38;5;241;43m1\u001b[39;49m\u001b[43m)\u001b[49m\n\u001b[0;32m      3\u001b[0m \u001b[38;5;28mprint\u001b[39m(eids)\n",
      "\u001b[1;31mValueError\u001b[0m: list.remove(x): x not in list"
     ]
    }
   ],
   "source": [
    "eids = [101,102,103,104,105,106]\n",
    "eids.remove(1)\n",
    "print(eids)"
   ]
  },
  {
   "cell_type": "code",
   "execution_count": 20,
   "id": "d13b5365-5daa-4211-88f1-7a5b96e9bca6",
   "metadata": {},
   "outputs": [
    {
     "name": "stdout",
     "output_type": "stream",
     "text": [
      "[101, 102, 103, 104, 105]\n"
     ]
    }
   ],
   "source": [
    "eids = [101,102,103,104,105,106]\n",
    "eids.remove(106)\n",
    "print(eids)"
   ]
  },
  {
   "cell_type": "code",
   "execution_count": 22,
   "id": "0e5f79f8-82f5-4eb7-a8bf-948bdc97c9ec",
   "metadata": {},
   "outputs": [
    {
     "ename": "NameError",
     "evalue": "name 'eids' is not defined",
     "output_type": "error",
     "traceback": [
      "\u001b[1;31m---------------------------------------------------------------------------\u001b[0m",
      "\u001b[1;31mNameError\u001b[0m                                 Traceback (most recent call last)",
      "Cell \u001b[1;32mIn[22], line 3\u001b[0m\n\u001b[0;32m      1\u001b[0m eids \u001b[38;5;241m=\u001b[39m [\u001b[38;5;241m101\u001b[39m,\u001b[38;5;241m102\u001b[39m,\u001b[38;5;241m103\u001b[39m,\u001b[38;5;241m104\u001b[39m,\u001b[38;5;241m105\u001b[39m,\u001b[38;5;241m106\u001b[39m]\n\u001b[0;32m      2\u001b[0m \u001b[38;5;28;01mdel\u001b[39;00m eids\n\u001b[1;32m----> 3\u001b[0m \u001b[38;5;28mprint\u001b[39m(\u001b[43meids\u001b[49m)\n",
      "\u001b[1;31mNameError\u001b[0m: name 'eids' is not defined"
     ]
    }
   ],
   "source": [
    "eids = [101,102,103,104,105,106]\n",
    "del eids\n",
    "print(eids)"
   ]
  },
  {
   "cell_type": "code",
   "execution_count": null,
   "id": "4d7bbca1-2c96-4502-8502-6f726b41375d",
   "metadata": {},
   "outputs": [],
   "source": [
    "#List Data Structure And Read Oberator - Methods\n",
    "#List.Index()\n",
    "#List.Sort()\n",
    "#List.Reverse()\n",
    "#List.Count()"
   ]
  },
  {
   "cell_type": "code",
   "execution_count": 23,
   "id": "74b235b3-b84e-45db-8bd5-abcf52840fa0",
   "metadata": {},
   "outputs": [
    {
     "name": "stdout",
     "output_type": "stream",
     "text": [
      "[101, 102, 103, 104, 105]\n"
     ]
    }
   ],
   "source": [
    "eids = [105,104,103,102,101]\n",
    "eids.sort()\n",
    "print(eids)"
   ]
  },
  {
   "cell_type": "code",
   "execution_count": 24,
   "id": "6ec52dba-80e2-40eb-b031-1b443207c8c2",
   "metadata": {},
   "outputs": [
    {
     "name": "stdout",
     "output_type": "stream",
     "text": [
      "[101, 102, 103, 104, 105]\n"
     ]
    }
   ],
   "source": [
    "eids = [105,104,103,102,101]\n",
    "eids.reverse()\n",
    "print(eids)"
   ]
  },
  {
   "cell_type": "code",
   "execution_count": 25,
   "id": "29f386de-b16e-49bf-9312-4b6845ef15b9",
   "metadata": {},
   "outputs": [
    {
     "name": "stdout",
     "output_type": "stream",
     "text": [
      "[105, 104, 103, 102, 101]\n"
     ]
    }
   ],
   "source": [
    "eids = [103,102,104,101,105]\n",
    "eids.sort(reverse = True)\n",
    "print(eids)"
   ]
  },
  {
   "cell_type": "code",
   "execution_count": 26,
   "id": "ebcb073a-6072-4619-9c34-d726ba534cba",
   "metadata": {},
   "outputs": [
    {
     "name": "stdout",
     "output_type": "stream",
     "text": [
      "2\n"
     ]
    }
   ],
   "source": [
    "l1 = [12,23,34,45]\n",
    "x = l1.index(34)\n",
    "print(x)"
   ]
  },
  {
   "cell_type": "code",
   "execution_count": 27,
   "id": "2c5011c1-c1d4-4168-8833-692432377caf",
   "metadata": {},
   "outputs": [
    {
     "ename": "ValueError",
     "evalue": "43 is not in list",
     "output_type": "error",
     "traceback": [
      "\u001b[1;31m---------------------------------------------------------------------------\u001b[0m",
      "\u001b[1;31mValueError\u001b[0m                                Traceback (most recent call last)",
      "Cell \u001b[1;32mIn[27], line 2\u001b[0m\n\u001b[0;32m      1\u001b[0m l1 \u001b[38;5;241m=\u001b[39m [\u001b[38;5;241m12\u001b[39m,\u001b[38;5;241m23\u001b[39m,\u001b[38;5;241m34\u001b[39m,\u001b[38;5;241m45\u001b[39m]\n\u001b[1;32m----> 2\u001b[0m x \u001b[38;5;241m=\u001b[39m \u001b[43ml1\u001b[49m\u001b[38;5;241;43m.\u001b[39;49m\u001b[43mindex\u001b[49m\u001b[43m(\u001b[49m\u001b[38;5;241;43m43\u001b[39;49m\u001b[43m)\u001b[49m\n\u001b[0;32m      3\u001b[0m \u001b[38;5;28mprint\u001b[39m(x)\n",
      "\u001b[1;31mValueError\u001b[0m: 43 is not in list"
     ]
    }
   ],
   "source": [
    "l1 = [12,23,34,45]\n",
    "x = l1.index(43)\n",
    "print(x)"
   ]
  },
  {
   "cell_type": "code",
   "execution_count": 29,
   "id": "3be64fbc-1249-490c-9027-1e9927c8a1df",
   "metadata": {},
   "outputs": [
    {
     "name": "stdout",
     "output_type": "stream",
     "text": [
      "4\n",
      "[10, 10, 10, 20, 10]\n"
     ]
    }
   ],
   "source": [
    "l1 = [10,10,10,20,10]\n",
    "print(l1.count(10))\n",
    "print(l1)"
   ]
  },
  {
   "cell_type": "code",
   "execution_count": 30,
   "id": "66a6263c-1ca3-44b8-8342-2dc695bf3264",
   "metadata": {},
   "outputs": [
    {
     "name": "stdout",
     "output_type": "stream",
     "text": [
      "0\n",
      "[10, 10, 10, 20, 10]\n"
     ]
    }
   ],
   "source": [
    "l1 = [10,10,10,20,10]\n",
    "print(l1.count(1))\n",
    "print(l1)"
   ]
  },
  {
   "cell_type": "code",
   "execution_count": null,
   "id": "a0c23cb2-bfa5-447b-b03e-d3d8a6a4a71b",
   "metadata": {},
   "outputs": [],
   "source": [
    "#In Copy Method Id Can Change\n",
    "#In Cloning Method Id Can't Change"
   ]
  },
  {
   "cell_type": "code",
   "execution_count": 31,
   "id": "7ccfeda1-1417-4e21-a4c7-57e39c7c0a9f",
   "metadata": {},
   "outputs": [
    {
     "name": "stdout",
     "output_type": "stream",
     "text": [
      "[1, 2, 3, 4, 5]\n",
      "[1, 2, 3, 4, 5]\n",
      "1764584422720\n",
      "1764584422720\n"
     ]
    }
   ],
   "source": [
    "#Cloning Method\n",
    "l1 = [1,2,3,4,5]\n",
    "l2 = l1\n",
    "print(l1)\n",
    "print(l2)\n",
    "print(id(l1))\n",
    "print(id(l2))"
   ]
  },
  {
   "cell_type": "code",
   "execution_count": 32,
   "id": "ffe8bef9-d994-4f11-995d-233ca109b2c5",
   "metadata": {},
   "outputs": [
    {
     "name": "stdout",
     "output_type": "stream",
     "text": [
      "[1, 2, 3, 4, 5]\n",
      "[1, 2, 3, 4, 5]\n",
      "1764584419392\n",
      "1764584422656\n"
     ]
    }
   ],
   "source": [
    "#Copy Method\n",
    "l1 = [1,2,3,4,5]\n",
    "l2 = l1.copy()\n",
    "print(l1)\n",
    "print(l2)\n",
    "print(id(l1))\n",
    "print(id(l2))"
   ]
  },
  {
   "cell_type": "code",
   "execution_count": null,
   "id": "15fc5c0b-7f13-408e-a803-73fbba4c2296",
   "metadata": {},
   "outputs": [],
   "source": []
  }
 ],
 "metadata": {
  "kernelspec": {
   "display_name": "Python 3 (ipykernel)",
   "language": "python",
   "name": "python3"
  },
  "language_info": {
   "codemirror_mode": {
    "name": "ipython",
    "version": 3
   },
   "file_extension": ".py",
   "mimetype": "text/x-python",
   "name": "python",
   "nbconvert_exporter": "python",
   "pygments_lexer": "ipython3",
   "version": "3.12.5"
  }
 },
 "nbformat": 4,
 "nbformat_minor": 5
}
