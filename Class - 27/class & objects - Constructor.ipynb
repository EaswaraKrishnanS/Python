{
 "cells": [
  {
   "cell_type": "code",
   "execution_count": 2,
   "id": "79ed8e11-043c-4475-a250-42fe10c33124",
   "metadata": {},
   "outputs": [
    {
     "ename": "TypeError",
     "evalue": "Employee() takes no arguments",
     "output_type": "error",
     "traceback": [
      "\u001b[1;31m---------------------------------------------------------------------------\u001b[0m",
      "\u001b[1;31mTypeError\u001b[0m                                 Traceback (most recent call last)",
      "Cell \u001b[1;32mIn[2], line 4\u001b[0m\n\u001b[0;32m      1\u001b[0m \u001b[38;5;28;01mclass\u001b[39;00m \u001b[38;5;21;01mEmployee\u001b[39;00m :\n\u001b[0;32m      2\u001b[0m     \u001b[38;5;28;01mpass\u001b[39;00m\n\u001b[1;32m----> 4\u001b[0m e1 \u001b[38;5;241m=\u001b[39m \u001b[43mEmployee\u001b[49m\u001b[43m(\u001b[49m\u001b[38;5;241;43m101\u001b[39;49m\u001b[43m,\u001b[49m\u001b[38;5;124;43m'\u001b[39;49m\u001b[38;5;124;43mAathithya\u001b[39;49m\u001b[38;5;124;43m'\u001b[39;49m\u001b[43m,\u001b[49m\u001b[38;5;241;43m95000\u001b[39;49m\u001b[43m)\u001b[49m\n\u001b[0;32m      5\u001b[0m \u001b[38;5;28mprint\u001b[39m(e1\u001b[38;5;241m.\u001b[39m\u001b[38;5;18m__dict__\u001b[39m)\n\u001b[0;32m      6\u001b[0m e2 \u001b[38;5;241m=\u001b[39m Employee(\u001b[38;5;241m110\u001b[39m,\u001b[38;5;124m'\u001b[39m\u001b[38;5;124mRahul\u001b[39m\u001b[38;5;124m'\u001b[39m,\u001b[38;5;241m45000\u001b[39m)\n",
      "\u001b[1;31mTypeError\u001b[0m: Employee() takes no arguments"
     ]
    }
   ],
   "source": [
    "class Employee :\n",
    "    pass\n",
    "\n",
    "e1 = Employee(101,'Aathithya',95000)\n",
    "print(e1.__dict__)\n",
    "e2 = Employee(110,'Rahul',45000)\n",
    "\n",
    "e3 = Employee(123,'Siva Balan',76999)\n"
   ]
  },
  {
   "cell_type": "code",
   "execution_count": 8,
   "id": "fd576e4b-f7df-4742-8370-f71154b80c2c",
   "metadata": {},
   "outputs": [
    {
     "name": "stdout",
     "output_type": "stream",
     "text": [
      "{'eid': 101, 'ename': 'Aathithya', 'esal': 95000}\n",
      "{'eid': 110, 'ename': 'Rahul', 'esal': 45000}\n",
      "{'eid': 123, 'ename': 'Siva Balan', 'esal': 76999}\n"
     ]
    }
   ],
   "source": [
    "class Employee :\n",
    "    Company_Name = 'TCS'\n",
    "\n",
    "    def __init__(self,id,name,sal) :\n",
    "        self.eid = id\n",
    "        self.ename = name\n",
    "        self.esal = sal\n",
    "\n",
    "e1 = Employee(101,'Aathithya',95000)\n",
    "e2 = Employee(110,'Rahul',45000)\n",
    "e3 = Employee(123,'Siva Balan',76999)\n",
    "print(e1.__dict__)\n",
    "print(e2.__dict__)\n",
    "print(e3.__dict__)\n"
   ]
  },
  {
   "cell_type": "code",
   "execution_count": 9,
   "id": "4bcf70c0-fcad-4a37-a3dc-0d55acee0dd2",
   "metadata": {},
   "outputs": [
    {
     "name": "stdout",
     "output_type": "stream",
     "text": [
      "{'__module__': '__main__', 'Company_Name': 'TCS', '__init__': <function Employee.__init__ at 0x000002502DC52A20>, '__dict__': <attribute '__dict__' of 'Employee' objects>, '__weakref__': <attribute '__weakref__' of 'Employee' objects>, '__doc__': None}\n"
     ]
    }
   ],
   "source": [
    "class Employee :\n",
    "    Company_Name = 'TCS'\n",
    "\n",
    "    def __init__(self,id,name,sal) :\n",
    "        self.eid = id\n",
    "        self.ename = name\n",
    "        self.esal = sal\n",
    "\n",
    "e1 = Employee(101,'Aathithya',95000)\n",
    "e2 = Employee(110,'Rahul',45000)\n",
    "e3 = Employee(123,'Siva Balan',76999)\n",
    "print(Employee.__dict__)\n"
   ]
  },
  {
   "cell_type": "code",
   "execution_count": 11,
   "id": "426a279f-ef7d-4867-be78-de1266897a6e",
   "metadata": {},
   "outputs": [
    {
     "name": "stdout",
     "output_type": "stream",
     "text": [
      "{'a': 100}\n",
      "{'a': 100}\n"
     ]
    }
   ],
   "source": [
    "class Test :\n",
    "    def __init__ (self) :\n",
    "        self.a = 100\n",
    "\n",
    "t1 = Test()\n",
    "t2 = Test()\n",
    "\n",
    "print(t1.__dict__)\n",
    "print(t2.__dict__)"
   ]
  },
  {
   "cell_type": "code",
   "execution_count": 12,
   "id": "81b45e63-2e7f-4006-a3a6-e283a8a5ef82",
   "metadata": {},
   "outputs": [
    {
     "name": "stdout",
     "output_type": "stream",
     "text": [
      "{'a': 100, 'b': 200}\n",
      "{'a': 100}\n"
     ]
    }
   ],
   "source": [
    "class Test :\n",
    "    def __init__ (self) :\n",
    "        self.a = 100\n",
    "\n",
    "    def m1 (self) :\n",
    "        self.b = 200\n",
    "\n",
    "t1 = Test()\n",
    "t2 = Test()\n",
    "t1.m1()\n",
    "print(t1.__dict__)\n",
    "print(t2.__dict__)"
   ]
  },
  {
   "cell_type": "code",
   "execution_count": 14,
   "id": "ae5b30b6-3e84-432c-83b3-8c538d48d642",
   "metadata": {},
   "outputs": [
    {
     "name": "stdout",
     "output_type": "stream",
     "text": [
      "{'a': 100, 'b': 200}\n",
      "{'a': 100, 'c': 300}\n"
     ]
    }
   ],
   "source": [
    "class Test :\n",
    "    def __init__ (self) :\n",
    "        self.a = 100\n",
    "\n",
    "    def m1 (self) :\n",
    "        self.b = 200\n",
    "\n",
    "t1 = Test()\n",
    "t2 = Test()\n",
    "t1.m1()\n",
    "t2.c = 300\n",
    "print(t1.__dict__)\n",
    "print(t2.__dict__)"
   ]
  },
  {
   "cell_type": "code",
   "execution_count": 24,
   "id": "2af505a0-dfaf-4f76-9449-74b8510f39c0",
   "metadata": {},
   "outputs": [
    {
     "ename": "NameError",
     "evalue": "name 'self' is not defined",
     "output_type": "error",
     "traceback": [
      "\u001b[1;31m---------------------------------------------------------------------------\u001b[0m",
      "\u001b[1;31mNameError\u001b[0m                                 Traceback (most recent call last)",
      "Cell \u001b[1;32mIn[24], line 14\u001b[0m\n\u001b[0;32m     12\u001b[0m t2 \u001b[38;5;241m=\u001b[39m Test()\n\u001b[0;32m     13\u001b[0m t1\u001b[38;5;241m.\u001b[39mm1()\n\u001b[1;32m---> 14\u001b[0m \u001b[43mt1\u001b[49m\u001b[38;5;241;43m.\u001b[39;49m\u001b[43mm2\u001b[49m\u001b[43m(\u001b[49m\u001b[43m)\u001b[49m\n\u001b[0;32m     15\u001b[0m t2\u001b[38;5;241m.\u001b[39mm2()\n\u001b[0;32m     16\u001b[0m t2\u001b[38;5;241m.\u001b[39mc \u001b[38;5;241m=\u001b[39m \u001b[38;5;241m300\u001b[39m\n",
      "Cell \u001b[1;32mIn[24], line 9\u001b[0m, in \u001b[0;36mTest.m2\u001b[1;34m(cls)\u001b[0m\n\u001b[0;32m      7\u001b[0m \u001b[38;5;129m@classmethod\u001b[39m\n\u001b[0;32m      8\u001b[0m \u001b[38;5;28;01mdef\u001b[39;00m \u001b[38;5;21mm2\u001b[39m (\u001b[38;5;28mcls\u001b[39m) :\n\u001b[1;32m----> 9\u001b[0m     \u001b[38;5;28;43mself\u001b[39;49m\u001b[38;5;241m.\u001b[39md \u001b[38;5;241m=\u001b[39m \u001b[38;5;241m400\u001b[39m\n",
      "\u001b[1;31mNameError\u001b[0m: name 'self' is not defined"
     ]
    }
   ],
   "source": [
    "class Test :\n",
    "    def __init__ (self) :\n",
    "        self.a = 100\n",
    "\n",
    "    def m1 (self) :\n",
    "        self.b = 200\n",
    "    @classmethod\n",
    "    def m2 (cls) :\n",
    "        self.d = 400\n",
    "\n",
    "t1 = Test()\n",
    "t2 = Test()\n",
    "t1.m1()\n",
    "t1.m2()\n",
    "t2.m2()\n",
    "t2.c = 300\n",
    "print(t1.__dict__)\n",
    "print(t2.__dict__)"
   ]
  },
  {
   "cell_type": "code",
   "execution_count": 25,
   "id": "6f3667cf-18c0-4fb3-8262-03f6d4508fbb",
   "metadata": {},
   "outputs": [
    {
     "name": "stdout",
     "output_type": "stream",
     "text": [
      "{'__module__': '__main__', 'a': 100, '__dict__': <attribute '__dict__' of 'Test' objects>, '__weakref__': <attribute '__weakref__' of 'Test' objects>, '__doc__': None}\n"
     ]
    }
   ],
   "source": [
    "class Test :\n",
    "    a = 100\n",
    "\n",
    "t1 = Test()\n",
    "print(Test.__dict__)"
   ]
  },
  {
   "cell_type": "code",
   "execution_count": 26,
   "id": "1785e395-0502-4518-8056-610e603b8cab",
   "metadata": {},
   "outputs": [
    {
     "name": "stdout",
     "output_type": "stream",
     "text": [
      "{'__module__': '__main__', 'a': 100, '__init__': <function Test.__init__ at 0x000002502DC52980>, '__dict__': <attribute '__dict__' of 'Test' objects>, '__weakref__': <attribute '__weakref__' of 'Test' objects>, '__doc__': None, 'b': 200}\n"
     ]
    }
   ],
   "source": [
    "class Test :\n",
    "    a = 100\n",
    "    def __init__ (self) :\n",
    "        Test.b = 200\n",
    "t1 = Test()\n",
    "print(Test.__dict__)"
   ]
  },
  {
   "cell_type": "code",
   "execution_count": 28,
   "id": "dc7f0a87-450b-4d08-9366-0312ef4a9c3a",
   "metadata": {},
   "outputs": [
    {
     "name": "stdout",
     "output_type": "stream",
     "text": [
      "{'__module__': '__main__', '__init__': <function Test.__init__ at 0x000002502E44DBC0>, 'm1': <function Test.m1 at 0x000002502E44D6C0>, 'm2': <classmethod(<function Test.m2 at 0x000002502E44CA40>)>, 'm3': <staticmethod(<function Test.m3 at 0x000002502E44C2C0>)>, '__dict__': <attribute '__dict__' of 'Test' objects>, '__weakref__': <attribute '__weakref__' of 'Test' objects>, '__doc__': None, 'a': 100, 'b': 200, 'd': 400, 'e': 800}\n",
      "{'__module__': '__main__', '__init__': <function Test.__init__ at 0x000002502E44DBC0>, 'm1': <function Test.m1 at 0x000002502E44D6C0>, 'm2': <classmethod(<function Test.m2 at 0x000002502E44CA40>)>, 'm3': <staticmethod(<function Test.m3 at 0x000002502E44C2C0>)>, '__dict__': <attribute '__dict__' of 'Test' objects>, '__weakref__': <attribute '__weakref__' of 'Test' objects>, '__doc__': None, 'a': 100, 'b': 200, 'd': 400, 'e': 800}\n"
     ]
    }
   ],
   "source": [
    "class Test :\n",
    "    def __init__ (self) :\n",
    "        Test.a = 100\n",
    "\n",
    "    def m1 (self) :\n",
    "        Test.b = 200\n",
    "    @classmethod\n",
    "    def m2 (cls) :\n",
    "        Test.d = 400\n",
    "        cls.e = 800\n",
    "    @staticmethod\n",
    "    def m3 () :\n",
    "        Test.f = 790\n",
    "\n",
    "t1 = Test()\n",
    "t2 = Test()\n",
    "t1.m1()\n",
    "t1.m2()\n",
    "t2.m2()\n",
    "t2.c = 300\n",
    "print(Test.__dict__)\n",
    "print(Test.__dict__)"
   ]
  },
  {
   "cell_type": "code",
   "execution_count": null,
   "id": "466d49b2-f656-4f8b-b35b-e7edab35e1b2",
   "metadata": {},
   "outputs": [],
   "source": []
  }
 ],
 "metadata": {
  "kernelspec": {
   "display_name": "Python 3 (ipykernel)",
   "language": "python",
   "name": "python3"
  },
  "language_info": {
   "codemirror_mode": {
    "name": "ipython",
    "version": 3
   },
   "file_extension": ".py",
   "mimetype": "text/x-python",
   "name": "python",
   "nbconvert_exporter": "python",
   "pygments_lexer": "ipython3",
   "version": "3.12.5"
  }
 },
 "nbformat": 4,
 "nbformat_minor": 5
}
