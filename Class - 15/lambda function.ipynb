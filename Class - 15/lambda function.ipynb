{
 "cells": [
  {
   "cell_type": "code",
   "execution_count": 2,
   "metadata": {},
   "outputs": [
    {
     "name": "stdout",
     "output_type": "stream",
     "text": [
      "aathithya\n"
     ]
    }
   ],
   "source": [
    "#Convert Upper Case To Lower Case Using Normal Function\n",
    "def update(name) :\n",
    "    return name.lower()\n",
    "name = update('AATHITHYA')\n",
    "print(name)"
   ]
  },
  {
   "cell_type": "code",
   "execution_count": 3,
   "metadata": {},
   "outputs": [
    {
     "name": "stdout",
     "output_type": "stream",
     "text": [
      "AATHITHYA\n"
     ]
    }
   ],
   "source": [
    "#Convert Lower Case To Upper Case Using Normal Function\n",
    "def update(name) :\n",
    "    return name.upper()\n",
    "name = update('aathithya')\n",
    "print(name)"
   ]
  },
  {
   "cell_type": "code",
   "execution_count": 6,
   "metadata": {},
   "outputs": [
    {
     "name": "stdout",
     "output_type": "stream",
     "text": [
      "aathithya\n"
     ]
    }
   ],
   "source": [
    "#Convert Upper Case To Lower Case Using Lambda Function\n",
    "name = 'AATHITHYA'\n",
    "\n",
    "update = lambda name: name.lower()\n",
    "name = update(name)  \n",
    "print(name)  \n"
   ]
  },
  {
   "cell_type": "code",
   "execution_count": 7,
   "metadata": {},
   "outputs": [
    {
     "name": "stdout",
     "output_type": "stream",
     "text": [
      "AATHITHYA\n"
     ]
    }
   ],
   "source": [
    "#Convert Lower Case To Upper Case Using Lambda Function\n",
    "name = 'aathithya'\n",
    "\n",
    "update = lambda name: name.upper()\n",
    "name = update(name)  \n",
    "print(name)  \n"
   ]
  },
  {
   "cell_type": "code",
   "execution_count": 10,
   "metadata": {},
   "outputs": [
    {
     "name": "stdout",
     "output_type": "stream",
     "text": [
      "[10, 20, 30, 40, 50]\n",
      "[11, 21, 31, 41, 51]\n"
     ]
    }
   ],
   "source": [
    "#Increase Individual Numbers Using Map In Normal Function\n",
    "numbers = [10,20,30,40,50]\n",
    "\n",
    "def addplus(num):\n",
    "    return num + 1\n",
    "map_obj = map(addplus,numbers)\n",
    "new_numbers = list(map_obj)\n",
    "print(numbers)\n",
    "print(new_numbers)"
   ]
  },
  {
   "cell_type": "code",
   "execution_count": 11,
   "metadata": {},
   "outputs": [
    {
     "name": "stdout",
     "output_type": "stream",
     "text": [
      "[10, 20, 30, 40, 50]\n",
      "[11, 21, 31, 41, 51]\n"
     ]
    }
   ],
   "source": [
    "#Increase Individual Numbers Using Map In Lambda Function\n",
    "numbers = [10,20,30,40,50]\n",
    "\n",
    "map_obj = map(lambda num : num + 1 , numbers)\n",
    "\n",
    "new_numbers = list(map_obj)\n",
    "print(numbers)\n",
    "print(new_numbers)"
   ]
  },
  {
   "cell_type": "code",
   "execution_count": 14,
   "metadata": {},
   "outputs": [
    {
     "name": "stdout",
     "output_type": "stream",
     "text": [
      "['aathithya', 'rahul', 'siva balan', 'dhinesh']\n",
      "['AATHITHYA', 'RAHUL', 'SIVA BALAN', 'DHINESH']\n"
     ]
    }
   ],
   "source": [
    "#Convert Lower Case To Upper Using Map In Normal Function\n",
    "enames = ['aathithya' , 'rahul' , 'siva balan' , 'dhinesh']\n",
    "\n",
    "new_names = list(map(lambda enames : enames.upper(),enames))\n",
    "\n",
    "print(enames)\n",
    "print(new_names)"
   ]
  },
  {
   "cell_type": "code",
   "execution_count": 15,
   "metadata": {},
   "outputs": [
    {
     "name": "stdout",
     "output_type": "stream",
     "text": [
      "[1000, 20, 50, 90, 500, 699, 2999]\n",
      "[20, 50, 90, 500, 699]\n"
     ]
    }
   ],
   "source": [
    "product_price =  [1000,20,50,90,500,699,2999]\n",
    "\n",
    "new_price = []\n",
    "\n",
    "for price in product_price :\n",
    "    if price < 1000 :\n",
    "        new_price.append(price)\n",
    "print(product_price)\n",
    "print(new_price)"
   ]
  },
  {
   "cell_type": "code",
   "execution_count": 17,
   "metadata": {},
   "outputs": [
    {
     "name": "stdout",
     "output_type": "stream",
     "text": [
      "[1000, 20, 50, 90, 500, 699, 2999]\n",
      "[20, 50, 90, 500, 699]\n"
     ]
    }
   ],
   "source": [
    "#Using Filter Method\n",
    "product_price = [1000,20,50,90,500,699,2999]\n",
    "def filter_Data(price):\n",
    "    return price < 1000\n",
    "new_prices = list(filter(filter_Data,product_price))\n",
    "print(product_price)\n",
    "print(new_prices)"
   ]
  },
  {
   "cell_type": "code",
   "execution_count": null,
   "metadata": {},
   "outputs": [],
   "source": []
  }
 ],
 "metadata": {
  "kernelspec": {
   "display_name": "Python 3",
   "language": "python",
   "name": "python3"
  },
  "language_info": {
   "codemirror_mode": {
    "name": "ipython",
    "version": 3
   },
   "file_extension": ".py",
   "mimetype": "text/x-python",
   "name": "python",
   "nbconvert_exporter": "python",
   "pygments_lexer": "ipython3",
   "version": "3.12.5"
  }
 },
 "nbformat": 4,
 "nbformat_minor": 2
}
