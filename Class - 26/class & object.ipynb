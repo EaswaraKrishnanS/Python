{
 "cells": [
  {
   "cell_type": "code",
   "execution_count": 2,
   "id": "8b04fbe6-559e-4a72-aed6-a10bf8d4e1a3",
   "metadata": {},
   "outputs": [
    {
     "name": "stdout",
     "output_type": "stream",
     "text": [
      "Test Case - Constructor Method\n",
      "Test Case - Constructor Method\n",
      "Test Case - Instance Method\n",
      "Test Case - Instance Method\n"
     ]
    }
   ],
   "source": [
    "class Test :\n",
    "\n",
    "    def __init__(self) :\n",
    "        print(\"Test Case - Constructor Method\")\n",
    "    \n",
    "    def m1(self) :\n",
    "        print(\"Test Case - Instance Method\")\n",
    "\n",
    "    @classmethod\n",
    "    def m2(self) :\n",
    "        print(\"Test Case - Class Method\")\n",
    "\n",
    "    @staticmethod\n",
    "    def m3(self) :\n",
    "        print(\"Test Case - Static Method\")\n",
    "t1 = Test()\n",
    "t2 = Test()\n",
    "t1.m1()\n",
    "t1.m1()"
   ]
  },
  {
   "cell_type": "code",
   "execution_count": 3,
   "id": "04971e5d-8ae3-4472-bb67-9adae6dc9311",
   "metadata": {},
   "outputs": [
    {
     "name": "stdout",
     "output_type": "stream",
     "text": [
      "Account Class - Constructor Method\n",
      "Account Class - Instance Method\n",
      "Account Class - Instance Method\n",
      "Account Class - Instance Method\n",
      "Account Class - Instance Method\n"
     ]
    }
   ],
   "source": [
    "class Account :\n",
    "    def __init__(self) :\n",
    "        print(\"Account Class - Constructor Method\")\n",
    "    def deposite_amount(self,amount) :\n",
    "        print(\"Account Class - Instance Method\")\n",
    "a1 = Account()\n",
    "a1.deposite_amount(45000)\n",
    "a1.deposite_amount(45000)\n",
    "a1.deposite_amount(45000)\n",
    "a1.deposite_amount(45000)"
   ]
  },
  {
   "cell_type": "code",
   "execution_count": 15,
   "id": "d861ad8c-cfe9-4e06-b537-bfa2377e84fd",
   "metadata": {},
   "outputs": [
    {
     "name": "stdout",
     "output_type": "stream",
     "text": [
      "Amount credited Successfully\n",
      "Amount credited Successfully\n",
      "Amount credited Successfully\n",
      "{'acc_id': 101, 'acc_name': 'Aathithya', 'acc_balance': 2100}\n",
      "{'acc_id': 121, 'acc_name': 'Rahul', 'acc_balance': 999}\n",
      "{'acc_id': 39, 'acc_name': 'Siva_Balan', 'acc_balance': 1599}\n"
     ]
    }
   ],
   "source": [
    "class Account :\n",
    "    min_bal = 500\n",
    "    def __init__(self,id,name,amount) :\n",
    "        self.acc_id = id\n",
    "        self.acc_name = name\n",
    "        self.acc_balance = amount\n",
    "\n",
    "    def deposite_amount (self,amount) :\n",
    "        self.acc_balance = self.acc_balance + amount\n",
    "        print(\"Amount credited Successfully\")\n",
    "\n",
    "    def withrawal_ammount (self,amount) :\n",
    "        print(\"Amount Withrawal Successfully\")\n",
    "\n",
    "a1 = Account(101,'Aathithya',1500)\n",
    "a1.deposite_amount(600)\n",
    "\n",
    "a2 = Account(121,'Rahul',499)\n",
    "a2.deposite_amount(500)\n",
    "\n",
    "a3 = Account(39,'Siva_Balan',899)\n",
    "a3.deposite_amount(700)\n",
    "\n",
    "print(a1.__dict__)\n",
    "print(a2.__dict__)\n",
    "print(a3.__dict__)"
   ]
  },
  {
   "cell_type": "code",
   "execution_count": 17,
   "id": "5f3372b0-66af-40a9-ba58-e50c437ea5db",
   "metadata": {},
   "outputs": [
    {
     "name": "stdout",
     "output_type": "stream",
     "text": [
      "{'__module__': '__main__', 'min_bal': 500, '__init__': <function Account.__init__ at 0x000001C7F6B7ADE0>, 'deposite_amount': <function Account.deposite_amount at 0x000001C7F6B78220>, 'withrawal_ammount': <function Account.withrawal_ammount at 0x000001C7F6B780E0>, '__dict__': <attribute '__dict__' of 'Account' objects>, '__weakref__': <attribute '__weakref__' of 'Account' objects>, '__doc__': None}\n"
     ]
    }
   ],
   "source": [
    "class Account :\n",
    "    min_bal = 500\n",
    "    def __init__(self,id,name,amount) :\n",
    "        self.acc_id = id\n",
    "        self.acc_name = name\n",
    "        self.acc_balance = amount\n",
    "\n",
    "    def deposite_amount (self,amount) :\n",
    "        self.acc_balance = self.acc_balance + amount\n",
    "        print(\"Amount credited Successfully\")\n",
    "\n",
    "    def withrawal_ammount (self,amount) :\n",
    "        print(\"Amount Withrawal Successfully\")\n",
    "\n",
    "print(Account.__dict__)"
   ]
  },
  {
   "cell_type": "code",
   "execution_count": null,
   "id": "1f7e9a70-a3dd-4c99-952c-347d45418f77",
   "metadata": {},
   "outputs": [],
   "source": [
    "class Test :\n",
    "    \"Task No 876 - Created\"\n",
    "    pass\n",
    "\n",
    "print(Test.__dict__)\n",
    "print(Test.__d"
   ]
  }
 ],
 "metadata": {
  "kernelspec": {
   "display_name": "Python 3 (ipykernel)",
   "language": "python",
   "name": "python3"
  },
  "language_info": {
   "codemirror_mode": {
    "name": "ipython",
    "version": 3
   },
   "file_extension": ".py",
   "mimetype": "text/x-python",
   "name": "python",
   "nbconvert_exporter": "python",
   "pygments_lexer": "ipython3",
   "version": "3.12.5"
  }
 },
 "nbformat": 4,
 "nbformat_minor": 5
}
