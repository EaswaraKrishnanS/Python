{
 "cells": [
  {
   "cell_type": "code",
   "execution_count": 12,
   "metadata": {},
   "outputs": [
    {
     "name": "stdout",
     "output_type": "stream",
     "text": [
      "11\n"
     ]
    }
   ],
   "source": [
    "#Position Arguments\n",
    "def calc(b,a) :\n",
    "    print(a-b)\n",
    "calc(23,34)"
   ]
  },
  {
   "cell_type": "code",
   "execution_count": 13,
   "metadata": {},
   "outputs": [
    {
     "name": "stdout",
     "output_type": "stream",
     "text": [
      "69\n"
     ]
    }
   ],
   "source": [
    "#Position Arguments\n",
    "def calc(a,b,c) :\n",
    "    print(a+b+c)\n",
    "calc(12,23,34)"
   ]
  },
  {
   "cell_type": "code",
   "execution_count": 3,
   "metadata": {},
   "outputs": [
    {
     "ename": "TypeError",
     "evalue": "add() missing 1 required positional argument: 'c'",
     "output_type": "error",
     "traceback": [
      "\u001b[1;31m---------------------------------------------------------------------------\u001b[0m",
      "\u001b[1;31mTypeError\u001b[0m                                 Traceback (most recent call last)",
      "Cell \u001b[1;32mIn[3], line 3\u001b[0m\n\u001b[0;32m      1\u001b[0m \u001b[38;5;28;01mdef\u001b[39;00m \u001b[38;5;21madd\u001b[39m(a,b,c) :\n\u001b[0;32m      2\u001b[0m     \u001b[38;5;28mprint\u001b[39m(a\u001b[38;5;241m+\u001b[39mb\u001b[38;5;241m+\u001b[39mc)\n\u001b[1;32m----> 3\u001b[0m \u001b[43madd\u001b[49m\u001b[43m(\u001b[49m\u001b[38;5;241;43m12\u001b[39;49m\u001b[43m,\u001b[49m\u001b[38;5;241;43m23\u001b[39;49m\u001b[43m)\u001b[49m\n",
      "\u001b[1;31mTypeError\u001b[0m: add() missing 1 required positional argument: 'c'"
     ]
    }
   ],
   "source": [
    "def calc(a,b,c) :\n",
    "    print(a+b+c)\n",
    "calc(12,23)"
   ]
  },
  {
   "cell_type": "code",
   "execution_count": 14,
   "metadata": {},
   "outputs": [
    {
     "name": "stdout",
     "output_type": "stream",
     "text": [
      "69\n",
      "36\n"
     ]
    }
   ],
   "source": [
    "#Default Arguments\n",
    "def calc(a,b,c = 1) :\n",
    "    print(a+b+c)\n",
    "calc(12,23,34)\n",
    "calc(12,23)"
   ]
  },
  {
   "cell_type": "code",
   "execution_count": 11,
   "metadata": {},
   "outputs": [
    {
     "name": "stdout",
     "output_type": "stream",
     "text": [
      "69\n",
      "36\n",
      "14\n"
     ]
    }
   ],
   "source": [
    "#Default Arguments\n",
    "def calc(a,b = 1,c = 1) :\n",
    "    print(a+b+c)\n",
    "calc(12,23,34)\n",
    "calc(12,23)\n",
    "calc(12)"
   ]
  },
  {
   "cell_type": "code",
   "execution_count": 15,
   "metadata": {},
   "outputs": [
    {
     "name": "stdout",
     "output_type": "stream",
     "text": [
      "-100\n"
     ]
    }
   ],
   "source": [
    "#Keyword Arguments\n",
    "def calc(b,a) :\n",
    "    print(a-b)\n",
    "calc(a=100 ,b=200)"
   ]
  },
  {
   "cell_type": "code",
   "execution_count": 7,
   "metadata": {},
   "outputs": [
    {
     "name": "stdout",
     "output_type": "stream",
     "text": [
      "-11\n",
      "11\n"
     ]
    }
   ],
   "source": [
    "def calc(b,a) :\n",
    "    print(b-a)\n",
    "calc(23,34)\n",
    "calc(34,23)"
   ]
  },
  {
   "cell_type": "code",
   "execution_count": 16,
   "metadata": {},
   "outputs": [
    {
     "name": "stdout",
     "output_type": "stream",
     "text": [
      "()\n",
      "(10, 20)\n",
      "(10, 20, 30)\n",
      "(10, 20, 30, 40)\n",
      "(10, 20, 30, 40, 50)\n"
     ]
    }
   ],
   "source": [
    "#Variable Length Arguments\n",
    "def calc( * a) :\n",
    "    print(a)\n",
    "calc()\n",
    "calc(10,20)\n",
    "calc(10,20,30)\n",
    "calc(10,20,30,40)\n",
    "calc(10,20,30,40,50)"
   ]
  },
  {
   "cell_type": "code",
   "execution_count": 18,
   "metadata": {},
   "outputs": [
    {
     "name": "stdout",
     "output_type": "stream",
     "text": [
      "0\n",
      "30\n",
      "60\n",
      "100\n",
      "150\n"
     ]
    }
   ],
   "source": [
    "#Variable Length Arguments\n",
    "def calc( * a) :\n",
    "    print(sum(a))\n",
    "calc()\n",
    "calc(10,20)\n",
    "calc(10,20,30)\n",
    "calc(10,20,30,40)\n",
    "calc(10,20,30,40,50)"
   ]
  },
  {
   "cell_type": "code",
   "execution_count": 21,
   "metadata": {},
   "outputs": [
    {
     "name": "stdout",
     "output_type": "stream",
     "text": [
      "Outer Function\n"
     ]
    },
    {
     "ename": "NameError",
     "evalue": "name 'inner' is not defined",
     "output_type": "error",
     "traceback": [
      "\u001b[1;31m---------------------------------------------------------------------------\u001b[0m",
      "\u001b[1;31mNameError\u001b[0m                                 Traceback (most recent call last)",
      "Cell \u001b[1;32mIn[21], line 7\u001b[0m\n\u001b[0;32m      4\u001b[0m         \u001b[38;5;28mprint\u001b[39m(\u001b[38;5;124m'\u001b[39m\u001b[38;5;124mInner Function\u001b[39m\u001b[38;5;124m'\u001b[39m)\n\u001b[0;32m      6\u001b[0m outer()\n\u001b[1;32m----> 7\u001b[0m \u001b[43minner\u001b[49m()\n",
      "\u001b[1;31mNameError\u001b[0m: name 'inner' is not defined"
     ]
    }
   ],
   "source": [
    "def outer() :\n",
    "    print('Outer Function')\n",
    "    def inner() :\n",
    "        print('Inner Function')\n",
    "    \n",
    "outer()\n",
    "inner()"
   ]
  },
  {
   "cell_type": "code",
   "execution_count": 22,
   "metadata": {},
   "outputs": [
    {
     "name": "stdout",
     "output_type": "stream",
     "text": [
      "Outer Function\n",
      "Inner Function\n"
     ]
    }
   ],
   "source": [
    "def outer() :\n",
    "    print('Outer Function')\n",
    "    def inner() :\n",
    "        print('Inner Function')\n",
    "    inner()\n",
    "    \n",
    "outer()\n"
   ]
  },
  {
   "cell_type": "code",
   "execution_count": 24,
   "metadata": {},
   "outputs": [
    {
     "name": "stdout",
     "output_type": "stream",
     "text": [
      "Outer Function\n",
      "100\n"
     ]
    }
   ],
   "source": [
    "def outer() :\n",
    "    print('Outer Function')\n",
    "    def inner() :\n",
    "        print('Inner Function')\n",
    "    return 100\n",
    "    \n",
    "value = outer()\n",
    "print(value)\n"
   ]
  },
  {
   "cell_type": "code",
   "execution_count": 26,
   "metadata": {},
   "outputs": [
    {
     "name": "stdout",
     "output_type": "stream",
     "text": [
      "Outer Function\n",
      "Inner Function\n"
     ]
    }
   ],
   "source": [
    "#Nested Function\n",
    "def outer() :\n",
    "    print('Outer Function')\n",
    "    def inner() :\n",
    "        print('Inner Function')\n",
    "    return inner\n",
    "    \n",
    "inner = outer()\n",
    "inner()\n"
   ]
  },
  {
   "cell_type": "code",
   "execution_count": null,
   "metadata": {},
   "outputs": [],
   "source": []
  }
 ],
 "metadata": {
  "kernelspec": {
   "display_name": "Python 3",
   "language": "python",
   "name": "python3"
  },
  "language_info": {
   "codemirror_mode": {
    "name": "ipython",
    "version": 3
   },
   "file_extension": ".py",
   "mimetype": "text/x-python",
   "name": "python",
   "nbconvert_exporter": "python",
   "pygments_lexer": "ipython3",
   "version": "3.12.5"
  }
 },
 "nbformat": 4,
 "nbformat_minor": 2
}
